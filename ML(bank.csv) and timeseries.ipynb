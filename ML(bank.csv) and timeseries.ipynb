{
  "cells": [
    {
      "cell_type": "markdown",
      "metadata": {
        "id": "XML7nTaCTC5g"
      },
      "source": [
        "# Part I: Supervised Learning"
      ]
    },
    {
      "cell_type": "code",
      "execution_count": null,
      "metadata": {},
      "outputs": [],
      "source": [
        "pip install imblearn"
      ]
    },
    {
      "cell_type": "code",
      "execution_count": null,
      "metadata": {
        "id": "OSbZiq16ySIX"
      },
      "outputs": [],
      "source": [
        "# Importing necessary libraries\n",
        "import pandas as pd\n",
        "import numpy as np\n",
        "from sklearn.preprocessing import LabelEncoder\n",
        "from sklearn.ensemble import RandomForestClassifier\n",
        "from imblearn.over_sampling import SMOTE\n",
        "from sklearn.preprocessing import StandardScaler\n",
        "\n",
        "# Reading the dataset\n",
        "df = pd.read_csv(r\"C:\\Users\\Jayam\\Documents\\bank.csv\")\n",
        "\n"
      ]
    },
    {
      "cell_type": "code",
      "execution_count": null,
      "metadata": {
        "colab": {
          "base_uri": "https://localhost:8080/",
          "height": 300
        },
        "id": "5ui5in3_0m0q",
        "outputId": "04e7268e-44b4-46a1-96f2-43d165a017fb"
      },
      "outputs": [],
      "source": [
        "df.head()"
      ]
    },
    {
      "cell_type": "code",
      "execution_count": null,
      "metadata": {
        "colab": {
          "base_uri": "https://localhost:8080/"
        },
        "id": "HcmREWJz2DHn",
        "outputId": "d4a3764b-dce7-4503-c51b-b1ef2829bf8d"
      },
      "outputs": [],
      "source": [
        "df.info()"
      ]
    },
    {
      "cell_type": "code",
      "execution_count": null,
      "metadata": {
        "colab": {
          "base_uri": "https://localhost:8080/"
        },
        "id": "xRcfm4C62KFF",
        "outputId": "ce857747-9a74-4628-e5f4-5f05643ac571"
      },
      "outputs": [],
      "source": [
        "df.columns"
      ]
    },
    {
      "cell_type": "markdown",
      "metadata": {
        "id": "6iWIQluW4qbb"
      },
      "source": [
        "## Q1.What does the primary analysis of several categorical features reveal?"
      ]
    },
    {
      "cell_type": "code",
      "execution_count": null,
      "metadata": {
        "colab": {
          "base_uri": "https://localhost:8080/"
        },
        "id": "hp0o6ipy0gcr",
        "outputId": "ce045db2-b277-409d-dc99-2926de4b9cf4"
      },
      "outputs": [],
      "source": [
        "categorical_features = ['job', 'marital', 'education', 'default', 'housing', 'loan', 'contact', 'month', 'day_of_week', 'poutcome', 'y']\n",
        "for feature in categorical_features:\n",
        " print(f\"{feature}:\")\n",
        " print(df[feature].value_counts())\n",
        " print(\"\\n\")"
      ]
    },
    {
      "cell_type": "code",
      "execution_count": null,
      "metadata": {
        "colab": {
          "base_uri": "https://localhost:8080/",
          "height": 1000
        },
        "id": "4k55xMlB95tb",
        "outputId": "27e4c02e-a27b-494e-e522-2a0476984cb6"
      },
      "outputs": [],
      "source": [
        "import seaborn as sns\n",
        "import matplotlib.pyplot as plt\n",
        "# plot the count of each categorical feature\n",
        "for feature in categorical_features:\n",
        "    plt.figure(figsize=(12,6))\n",
        "    sns.countplot(x=feature, data=df)\n",
        "    plt.title(f\"Distribution of {feature}\")\n",
        "    plt.show()"
      ]
    },
    {
      "attachments": {},
      "cell_type": "markdown",
      "metadata": {},
      "source": [
        "Primary analysis of several categorical features reveals:\n",
        "1.Admin and tech opened the deposit most of all.\n",
        "2.Although in absolute terms married consumers more often agreed to the service, in relative terms the single was responded better.\n",
        "3.Best communication channel is cellular.\n",
        "4.The difference is evident between consumers who already use the services of banks and received a loan.\n",
        "5.Home ownership does not affect marketing company performance."
      ]
    },
    {
      "cell_type": "markdown",
      "metadata": {
        "id": "H3pM2Li30L63"
      },
      "source": [
        "## Q2. Perform the following Exploratory Data Analysis tasks:\n",
        "* a. Missing Value Analysis\n",
        "* b. Label Encoding wherever required\n",
        "* c. Selecting important features based on Random Forest\n",
        "* d. Handling unbalanced data using SMOTE\n",
        "* e. Standardize the data using the anyone of the scalers provided by sklearn"
      ]
    },
    {
      "cell_type": "code",
      "execution_count": 19,
      "metadata": {
        "colab": {
          "base_uri": "https://localhost:8080/"
        },
        "id": "YfGV_77-z_1T",
        "outputId": "cdac8d87-507d-4237-9e67-7daa7cc86854"
      },
      "outputs": [
        {
          "name": "stdout",
          "output_type": "stream",
          "text": [
            "age               0\n",
            "job               0\n",
            "marital           0\n",
            "education         0\n",
            "default           0\n",
            "housing           0\n",
            "loan              0\n",
            "contact           0\n",
            "month             0\n",
            "day_of_week       0\n",
            "duration          0\n",
            "campaign          0\n",
            "pdays             0\n",
            "previous          0\n",
            "poutcome          0\n",
            "emp.var.rate      0\n",
            "cons.price.idx    0\n",
            "cons.conf.idx     0\n",
            "euribor3m         0\n",
            "nr.employed       0\n",
            "y                 0\n",
            "dtype: int64\n"
          ]
        }
      ],
      "source": [
        "# a.Missing value analysis\n",
        "print(df.isna().sum())\n",
        "\n"
      ]
    },
    {
      "cell_type": "code",
      "execution_count": 20,
      "metadata": {
        "id": "3aT0p8BL4-P5"
      },
      "outputs": [],
      "source": [
        "# b.Label encoding\n",
        "label_encoder = LabelEncoder()\n",
        "categorical_features = ['job', 'marital', 'education', 'default', 'housing', 'loan', 'contact', 'month', 'day_of_week', 'poutcome']\n",
        "for feature in categorical_features:\n",
        "    df[feature] = label_encoder.fit_transform(df[feature])\n"
      ]
    },
    {
      "cell_type": "code",
      "execution_count": 21,
      "metadata": {
        "colab": {
          "base_uri": "https://localhost:8080/"
        },
        "id": "gl1BZzNo5C9M",
        "outputId": "89f7cc3b-5750-4c8b-d1fc-78a397704967"
      },
      "outputs": [
        {
          "name": "stdout",
          "output_type": "stream",
          "text": [
            "duration          0.322205\n",
            "euribor3m         0.102378\n",
            "age               0.092458\n",
            "nr.employed       0.065854\n",
            "job               0.048379\n",
            "education         0.043033\n",
            "campaign          0.042856\n",
            "day_of_week       0.040689\n",
            "pdays             0.034339\n",
            "poutcome          0.029780\n",
            "cons.conf.idx     0.028227\n",
            "marital           0.023406\n",
            "cons.price.idx    0.022418\n",
            "housing           0.020226\n",
            "emp.var.rate      0.019809\n",
            "month             0.017266\n",
            "loan              0.014996\n",
            "previous          0.013527\n",
            "contact           0.009263\n",
            "default           0.008894\n",
            "dtype: float64\n"
          ]
        }
      ],
      "source": [
        "# c.Selecting important features based on Random Forest\n",
        "X = df.drop('y', axis=1)\n",
        "y = df['y']\n",
        "rfc = RandomForestClassifier(random_state=42)\n",
        "rfc.fit(X, y)\n",
        "important_features = pd.Series(data=rfc.feature_importances_, index=X.columns).sort_values(ascending=False)\n",
        "print(important_features)\n",
        "\n"
      ]
    },
    {
      "cell_type": "code",
      "execution_count": 22,
      "metadata": {
        "colab": {
          "base_uri": "https://localhost:8080/"
        },
        "id": "Ned_NbRh5Vo6",
        "outputId": "4b99c56f-3af8-440c-d9fe-75902e4546ea"
      },
      "outputs": [
        {
          "name": "stdout",
          "output_type": "stream",
          "text": [
            "Class distribution before SMOTE: no     36548\n",
            "yes     4640\n",
            "Name: y, dtype: int64\n",
            "Class distribution after SMOTE: no     36548\n",
            "yes    36548\n",
            "Name: y, dtype: int64\n"
          ]
        }
      ],
      "source": [
        "# d.Handling unbalanced data using SMOTE\n",
        "smote = SMOTE(random_state=42)\n",
        "X_smote, y_smote = smote.fit_resample(X, y)\n",
        "print(f\"Class distribution before SMOTE: {y.value_counts()}\")\n",
        "print(f\"Class distribution after SMOTE: {y_smote.value_counts()}\")\n",
        "\n"
      ]
    },
    {
      "cell_type": "code",
      "execution_count": 23,
      "metadata": {
        "id": "nj94h6t45bWI"
      },
      "outputs": [],
      "source": [
        "# e.Standardizing the data\n",
        "scaler = StandardScaler()\n",
        "X_scaled = scaler.fit_transform(X)"
      ]
    },
    {
      "cell_type": "markdown",
      "metadata": {
        "id": "B5XKqTOT5yRk"
      },
      "source": [
        "## Q3. Build the following Supervised Learning models:\n",
        "* a. Logistic Regression\n",
        "* b. AdaBoost\n",
        "* c. Naïve Bayes\n",
        "* d. KNN\n",
        "* e. SVM"
      ]
    },
    {
      "cell_type": "code",
      "execution_count": 25,
      "metadata": {
        "colab": {
          "base_uri": "https://localhost:8080/"
        },
        "id": "1OSRL1RG5dVu",
        "outputId": "4af91fd6-3d31-4c50-f1c9-7b5d9860e209"
      },
      "outputs": [
        {
          "name": "stderr",
          "output_type": "stream",
          "text": [
            "c:\\Users\\Jayam\\AppData\\Local\\Programs\\Python\\Python311\\Lib\\site-packages\\sklearn\\linear_model\\_logistic.py:458: ConvergenceWarning: lbfgs failed to converge (status=1):\n",
            "STOP: TOTAL NO. of ITERATIONS REACHED LIMIT.\n",
            "\n",
            "Increase the number of iterations (max_iter) or scale the data as shown in:\n",
            "    https://scikit-learn.org/stable/modules/preprocessing.html\n",
            "Please also refer to the documentation for alternative solver options:\n",
            "    https://scikit-learn.org/stable/modules/linear_model.html#logistic-regression\n",
            "  n_iter_i = _check_optimize_result(\n"
          ]
        },
        {
          "name": "stdout",
          "output_type": "stream",
          "text": [
            "Accuracy score for Logistic Regression: 0.909686817188638\n",
            "Accuracy score for AdaBoost: 0.9089584850691915\n",
            "Accuracy score for Naïve Bayes: 0.8505705268268997\n",
            "Accuracy score for KNN: 0.902282107307599\n",
            "Accuracy score for SVM: 0.8945132313668366\n"
          ]
        }
      ],
      "source": [
        "# import necessary libraries\n",
        "from sklearn.linear_model import LogisticRegression\n",
        "from sklearn.ensemble import AdaBoostClassifier\n",
        "from sklearn.naive_bayes import GaussianNB\n",
        "from sklearn.neighbors import KNeighborsClassifier\n",
        "from sklearn.svm import SVC\n",
        "from sklearn.model_selection import train_test_split\n",
        "\n",
        "# separate features and target variable\n",
        "X = df.drop(['y'], axis=1)\n",
        "y = df['y']\n",
        "\n",
        "# split the data into training and testing sets\n",
        "X_train, X_test, y_train, y_test = train_test_split(X, y, test_size=0.2, random_state=42)\n",
        "\n",
        "# instantiate models\n",
        "logreg = LogisticRegression()\n",
        "adaboost = AdaBoostClassifier()\n",
        "nb = GaussianNB()\n",
        "knn = KNeighborsClassifier()\n",
        "svm = SVC()\n",
        "\n",
        "# fit models on training data\n",
        "logreg.fit(X_train, y_train)\n",
        "adaboost.fit(X_train, y_train)\n",
        "nb.fit(X_train, y_train)\n",
        "knn.fit(X_train, y_train)\n",
        "svm.fit(X_train, y_train)\n",
        "\n",
        "# make predictions on test data\n",
        "y_pred_logreg = logreg.predict(X_test)\n",
        "y_pred_adaboost = adaboost.predict(X_test)\n",
        "y_pred_nb = nb.predict(X_test)\n",
        "y_pred_knn = knn.predict(X_test)\n",
        "y_pred_svm = svm.predict(X_test)\n",
        "\n",
        "# evaluate models using accuracy score\n",
        "from sklearn.metrics import accuracy_score\n",
        "\n",
        "print(\"Accuracy score for Logistic Regression:\", accuracy_score(y_test, y_pred_logreg))\n",
        "print(\"Accuracy score for AdaBoost:\", accuracy_score(y_test, y_pred_adaboost))\n",
        "print(\"Accuracy score for Naïve Bayes:\", accuracy_score(y_test, y_pred_nb))\n",
        "print(\"Accuracy score for KNN:\", accuracy_score(y_test, y_pred_knn))\n",
        "print(\"Accuracy score for SVM:\", accuracy_score(y_test, y_pred_svm))\n"
      ]
    },
    {
      "cell_type": "markdown",
      "metadata": {
        "id": "LxL2O4IT7JXQ"
      },
      "source": [
        "## Q4. Tabulate the performance metrics of all the above models and tell which model performs better in predicting if the client will subscribe to term deposit or not"
      ]
    },
    {
      "cell_type": "code",
      "execution_count": 17,
      "metadata": {
        "colab": {
          "base_uri": "https://localhost:8080/"
        },
        "id": "7APrXKpA6DYt",
        "outputId": "18b30aa2-d4f2-4969-9475-aa427d6a3c16"
      },
      "outputs": [
        {
          "name": "stdout",
          "output_type": "stream",
          "text": [
            "Confusion matrix and classification report for Logistic Regression:\n",
            "\n",
            "[[7113  190]\n",
            " [ 554  381]]\n",
            "              precision    recall  f1-score   support\n",
            "\n",
            "          no       0.93      0.97      0.95      7303\n",
            "         yes       0.67      0.41      0.51       935\n",
            "\n",
            "    accuracy                           0.91      8238\n",
            "   macro avg       0.80      0.69      0.73      8238\n",
            "weighted avg       0.90      0.91      0.90      8238\n",
            "\n",
            "Confusion matrix and classification report for AdaBoost:\n",
            "\n",
            "[[7115  188]\n",
            " [ 562  373]]\n",
            "              precision    recall  f1-score   support\n",
            "\n",
            "          no       0.93      0.97      0.95      7303\n",
            "         yes       0.66      0.40      0.50       935\n",
            "\n",
            "    accuracy                           0.91      8238\n",
            "   macro avg       0.80      0.69      0.72      8238\n",
            "weighted avg       0.90      0.91      0.90      8238\n",
            "\n",
            "Confusion matrix and classification report for Naïve Bayes:\n",
            "\n",
            "[[6432  871]\n",
            " [ 360  575]]\n",
            "              precision    recall  f1-score   support\n",
            "\n",
            "          no       0.95      0.88      0.91      7303\n",
            "         yes       0.40      0.61      0.48       935\n",
            "\n",
            "    accuracy                           0.85      8238\n",
            "   macro avg       0.67      0.75      0.70      8238\n",
            "weighted avg       0.88      0.85      0.86      8238\n",
            "\n",
            "Confusion matrix and classification report for KNN:\n",
            "\n",
            "[[6986  317]\n",
            " [ 488  447]]\n",
            "              precision    recall  f1-score   support\n",
            "\n",
            "          no       0.93      0.96      0.95      7303\n",
            "         yes       0.59      0.48      0.53       935\n",
            "\n",
            "    accuracy                           0.90      8238\n",
            "   macro avg       0.76      0.72      0.74      8238\n",
            "weighted avg       0.90      0.90      0.90      8238\n",
            "\n",
            "Confusion matrix and classification report for SVM:\n",
            "\n",
            "[[7176  127]\n",
            " [ 742  193]]\n",
            "              precision    recall  f1-score   support\n",
            "\n",
            "          no       0.91      0.98      0.94      7303\n",
            "         yes       0.60      0.21      0.31       935\n",
            "\n",
            "    accuracy                           0.89      8238\n",
            "   macro avg       0.75      0.59      0.63      8238\n",
            "weighted avg       0.87      0.89      0.87      8238\n",
            "\n"
          ]
        }
      ],
      "source": [
        "from sklearn.metrics import confusion_matrix, classification_report\n",
        "# evaluate models using confusion matrix and classification report\n",
        "print(\"Confusion matrix and classification report for Logistic Regression:\\n\")\n",
        "print(confusion_matrix(y_test, y_pred_logreg))\n",
        "print(classification_report(y_test, y_pred_logreg))\n",
        "\n",
        "print(\"Confusion matrix and classification report for AdaBoost:\\n\")\n",
        "print(confusion_matrix(y_test, y_pred_adaboost))\n",
        "print(classification_report(y_test, y_pred_adaboost))\n",
        "\n",
        "print(\"Confusion matrix and classification report for Naïve Bayes:\\n\")\n",
        "print(confusion_matrix(y_test, y_pred_nb))\n",
        "print(classification_report(y_test, y_pred_nb))\n",
        "\n",
        "print(\"Confusion matrix and classification report for KNN:\\n\")\n",
        "print(confusion_matrix(y_test, y_pred_knn))\n",
        "print(classification_report(y_test, y_pred_knn))\n",
        "\n",
        "print(\"Confusion matrix and classification report for SVM:\\n\")\n",
        "print(confusion_matrix(y_test, y_pred_svm))\n",
        "print(classification_report(y_test, y_pred_svm))"
      ]
    },
    {
      "cell_type": "code",
      "execution_count": null,
      "metadata": {
        "id": "X3Vgm12R7OFX"
      },
      "outputs": [],
      "source": []
    },
    {
      "cell_type": "markdown",
      "metadata": {
        "id": "YHGa-nWc-0IC"
      },
      "source": [
        "# Part II: Time Series"
      ]
    },
    {
      "cell_type": "markdown",
      "metadata": {
        "id": "kbGu61i6-40h"
      },
      "source": [
        "## Q1.Get the modal price of onion for each month for the Mumbai market (Hint: set monthly date as index and drop redundant columns)"
      ]
    },
    {
      "cell_type": "code",
      "execution_count": 26,
      "metadata": {
        "id": "l2yHVDYA-1GI"
      },
      "outputs": [],
      "source": [
        "# Read the CSV file into a pandas DataFrame\n",
        "df = pd.read_csv(r\"C:\\Users\\Jayam\\Documents\\MonthWiseMarketArrivals_Clean.csv\")\n",
        "\n",
        "\n"
      ]
    },
    {
      "cell_type": "code",
      "execution_count": null,
      "metadata": {
        "colab": {
          "base_uri": "https://localhost:8080/",
          "height": 206
        },
        "id": "18HWL8YE_59w",
        "outputId": "0b7b578e-81af-4556-9a4e-1cc5df833d83"
      },
      "outputs": [],
      "source": [
        "df.head()"
      ]
    },
    {
      "cell_type": "code",
      "execution_count": null,
      "metadata": {
        "colab": {
          "base_uri": "https://localhost:8080/"
        },
        "id": "4TOTQ5nM_8nS",
        "outputId": "8fa8c614-41eb-4b4a-c60c-88d61471b31a"
      },
      "outputs": [],
      "source": [
        "df.info()"
      ]
    },
    {
      "cell_type": "code",
      "execution_count": 28,
      "metadata": {
        "colab": {
          "base_uri": "https://localhost:8080/"
        },
        "id": "JCSMPdW8NN0x",
        "outputId": "131358fe-1770-4f86-bc24-18dbe34b7f88"
      },
      "outputs": [
        {
          "name": "stdout",
          "output_type": "stream",
          "text": [
            "            priceMod\n",
            "date                \n",
            "2004-01-31     849.0\n",
            "2004-02-29     736.0\n",
            "2004-03-31     498.0\n",
            "2004-04-30     397.0\n",
            "2004-05-31     405.0\n",
            "...              ...\n",
            "2015-10-31    3748.0\n",
            "2015-11-30    2623.0\n",
            "2015-12-31    1542.0\n",
            "2016-01-31    1215.0\n",
            "2016-02-29    1128.0\n",
            "\n",
            "[146 rows x 1 columns]\n"
          ]
        },
        {
          "name": "stderr",
          "output_type": "stream",
          "text": [
            "C:\\Users\\Jayam\\AppData\\Local\\Temp\\ipykernel_504\\2166189147.py:5: SettingWithCopyWarning: \n",
            "A value is trying to be set on a copy of a slice from a DataFrame\n",
            "\n",
            "See the caveats in the documentation: https://pandas.pydata.org/pandas-docs/stable/user_guide/indexing.html#returning-a-view-versus-a-copy\n",
            "  mumbai_df.drop(['market', 'year', 'quantity', 'priceMin', 'priceMax', 'state', 'city', 'date'], axis=1, inplace=True)\n"
          ]
        }
      ],
      "source": [
        "\n",
        "mumbai_df = df[df['market'] == 'MUMBAI']\n",
        "mumbai_df.set_index(pd.to_datetime(mumbai_df['date']), inplace=True)\n",
        "\n",
        "\n",
        "mumbai_df.drop(['market', 'year', 'quantity', 'priceMin', 'priceMax', 'state', 'city', 'date'], axis=1, inplace=True)\n",
        "\n",
        "\n",
        "monthly_modal_price = mumbai_df.resample('M').agg({'priceMod': 'mean'})\n",
        "\n",
        "print(monthly_modal_price)\n"
      ]
    },
    {
      "cell_type": "code",
      "execution_count": 32,
      "metadata": {
        "colab": {
          "base_uri": "https://localhost:8080/",
          "height": 555
        },
        "id": "vJ23L3fWAAJt",
        "outputId": "3780d75d-1e91-4db8-f958-0ebcf1075033"
      },
      "outputs": [
        {
          "name": "stderr",
          "output_type": "stream",
          "text": [
            "C:\\Users\\Jayam\\AppData\\Local\\Temp\\ipykernel_504\\411680803.py:10: SettingWithCopyWarning: \n",
            "A value is trying to be set on a copy of a slice from a DataFrame\n",
            "\n",
            "See the caveats in the documentation: https://pandas.pydata.org/pandas-docs/stable/user_guide/indexing.html#returning-a-view-versus-a-copy\n",
            "  mumbai_df.drop(['market', 'year', 'quantity', 'priceMin', 'priceMax', 'state', 'city', 'date'], axis=1, inplace=True)\n"
          ]
        },
        {
          "name": "stdout",
          "output_type": "stream",
          "text": [
            "RMSE: 3058.370771686249\n"
          ]
        },
        {
          "data": {
            "image/png": "[encoded data removed]",
            "text/plain": [
              "<Figure size 1500x600 with 1 Axes>"
            ]
          },
          "metadata": {},
          "output_type": "display_data"
        }
      ],
      "source": [
        "import pandas as pd\n",
        "import numpy as np\n",
        "from statsmodels.tsa.statespace.sarimax import SARIMAX\n",
        "from sklearn.metrics import mean_squared_error\n",
        "import matplotlib.pyplot as plt\n",
        "\n",
        "df = pd.read_csv(r\"C:\\Users\\Jayam\\Documents\\MonthWiseMarketArrivals_Clean.csv\")\n",
        "mumbai_df = df[df['market'] == 'MUMBAI']\n",
        "mumbai_df.set_index(pd.to_datetime(mumbai_df['date']), inplace=True)\n",
        "mumbai_df.drop(['market', 'year', 'quantity', 'priceMin', 'priceMax', 'state', 'city', 'date'], axis=1, inplace=True)\n",
        "monthly_modal_price = mumbai_df.resample('M').agg({'priceMod': 'mean'})\n",
        "train_size = int(len(monthly_modal_price) * 0.8)\n",
        "train_data, test_data = monthly_modal_price[0:train_size], monthly_modal_price[train_size:len(monthly_modal_price)]\n",
        "model = SARIMAX(train_data, order=(1, 1, 1), seasonal_order=(1, 1, 1, 12))\n",
        "model_fit = model.fit()\n",
        "predictions = model_fit.predict(start=len(train_data), end=len(monthly_modal_price)-1, dynamic=False)\n",
        "rmse = np.sqrt(mean_squared_error(test_data, predictions))\n",
        "print('RMSE:', rmse)\n",
        "plt.figure(figsize=(15, 6))\n",
        "plt.plot(train_data.index, train_data, label='Training Data')\n",
        "plt.plot(test_data.index, test_data, label='Testing Data')\n",
        "plt.plot(test_data.index, predictions, label='Predicted Data')\n",
        "plt.xlabel('Year')\n",
        "plt.ylabel('Modal Price')\n",
        "plt.title('Modal Price of Onions in Mumbai')\n",
        "plt.legend()\n",
        "plt.show()\n"
      ]
    },
    {
      "cell_type": "code",
      "execution_count": 36,
      "metadata": {},
      "outputs": [],
      "source": [
        "from statsmodels.graphics.tsaplots import plot_acf,plot_pacf\n"
      ]
    },
    {
      "cell_type": "code",
      "execution_count": 37,
      "metadata": {
        "colab": {
          "base_uri": "https://localhost:8080/",
          "height": 599
        },
        "id": "S-wAQqoWSvlT",
        "outputId": "20d4aa41-7990-4a66-e876-010851409b3a"
      },
      "outputs": [
        {
          "name": "stderr",
          "output_type": "stream",
          "text": [
            "c:\\Users\\Jayam\\AppData\\Local\\Programs\\Python\\Python311\\Lib\\site-packages\\statsmodels\\graphics\\tsaplots.py:348: FutureWarning: The default method 'yw' can produce PACF values outside of the [-1,1] interval. After 0.13, the default will change tounadjusted Yule-Walker ('ywm'). You can use this method now by setting method='ywm'.\n",
            "  warnings.warn(\n"
          ]
        },
        {
          "data": {
            "image/png": "[encoded data removed]",
            "text/plain": [
              "<Figure size 1500x800 with 2 Axes>"
            ]
          },
          "metadata": {},
          "output_type": "display_data"
        }
      ],
      "source": [
        "fig, ax = plt.subplots(2,1,figsize=(15,8))\n",
        "plot_acf(train_data, ax=ax[0], lags=30)\n",
        "ax[0].set_xlabel('Lag')\n",
        "ax[0].set_ylabel('Autocorrelation')\n",
        "ax[0].set_title('ACF Plot')\n",
        "plot_pacf(train_data, ax=ax[1], lags=30)\n",
        "ax[1].set_xlabel('Lag')\n",
        "ax[1].set_ylabel('Partial Autocorrelation')\n",
        "ax[1].set_title('PACF Plot')\n",
        "plt.show()\n"
      ]
    },
    {
      "cell_type": "code",
      "execution_count": 38,
      "metadata": {
        "colab": {
          "base_uri": "https://localhost:8080/"
        },
        "id": "uEGc1ReoRqEf",
        "outputId": "f83cf387-1d0a-464e-8477-3a0583aaad62"
      },
      "outputs": [
        {
          "name": "stdout",
          "output_type": "stream",
          "text": [
            "RMSE: 1919.4285279747141\n"
          ]
        }
      ],
      "source": [
        "\n",
        "from statsmodels.tsa.holtwinters import ExponentialSmoothing\n",
        "model = ExponentialSmoothing(train_data, seasonal='add', seasonal_periods=12).fit()\n",
        "predictions = model.forecast(len(test_data))\n",
        "rmse = np.sqrt(mean_squared_error(test_data, predictions))\n",
        "print('RMSE:', rmse)\n",
        "\n"
      ]
    },
    {
      "cell_type": "code",
      "execution_count": null,
      "metadata": {
        "id": "4gFe-y-lSHlw"
      },
      "outputs": [],
      "source": []
    }
  ],
  "metadata": {
    "colab": {
      "provenance": []
    },
    "kernelspec": {
      "display_name": "Python 3",
      "name": "python3"
    },
    "language_info": {
      "codemirror_mode": {
        "name": "ipython",
        "version": 3
      },
      "file_extension": ".py",
      "mimetype": "text/x-python",
      "name": "python",
      "nbconvert_exporter": "python",
      "pygments_lexer": "ipython3",
      "version": "3.11.1"
    }
  },
  "nbformat": 4,
  "nbformat_minor": 0
}
