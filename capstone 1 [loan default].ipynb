{
 "cells": [
  {
   "cell_type": "code",
   "execution_count": 239,
   "id": "1aa95a21",
   "metadata": {
    "execution": {
     "iopub.execute_input": "2023-05-11T14:21:29.768722Z",
     "iopub.status.busy": "2023-05-11T14:21:29.768237Z",
     "iopub.status.idle": "2023-05-11T14:21:31.119228Z",
     "shell.execute_reply": "2023-05-11T14:21:31.117960Z"
    },
    "papermill": {
     "duration": 1.377676,
     "end_time": "2023-05-11T14:21:31.122662",
     "exception": false,
     "start_time": "2023-05-11T14:21:29.744986",
     "status": "completed"
    },
    "tags": []
   },
   "outputs": [],
   "source": [
    "import pandas as pd\n",
    "import numpy as np\n",
    "import matplotlib.pyplot as plt\n",
    "import seaborn as sns"
   ]
  },
  {
   "cell_type": "code",
   "execution_count": 240,
   "id": "9e1870bc",
   "metadata": {
    "execution": {
     "iopub.execute_input": "2023-05-11T14:21:31.162377Z",
     "iopub.status.busy": "2023-05-11T14:21:31.161174Z",
     "iopub.status.idle": "2023-05-11T14:21:32.610794Z",
     "shell.execute_reply": "2023-05-11T14:21:32.609523Z"
    },
    "papermill": {
     "duration": 1.473007,
     "end_time": "2023-05-11T14:21:32.614248",
     "exception": false,
     "start_time": "2023-05-11T14:21:31.141241",
     "status": "completed"
    },
    "tags": []
   },
   "outputs": [],
   "source": [
    "df = pd.read_csv(r\"C:\\Users\\Jayam\\Desktop\\project\\Loan_Default_new_FULL.csv\",index_col='ID')"
   ]
  },
  {
   "cell_type": "code",
   "execution_count": 241,
   "id": "52c58322",
   "metadata": {
    "execution": {
     "iopub.execute_input": "2023-05-11T14:21:32.653356Z",
     "iopub.status.busy": "2023-05-11T14:21:32.652342Z",
     "iopub.status.idle": "2023-05-11T14:21:32.803321Z",
     "shell.execute_reply": "2023-05-11T14:21:32.802142Z"
    },
    "papermill": {
     "duration": 0.174838,
     "end_time": "2023-05-11T14:21:32.807289",
     "exception": false,
     "start_time": "2023-05-11T14:21:32.632451",
     "status": "completed"
    },
    "tags": []
   },
   "outputs": [
    {
     "data": {
      "text/html": [
       "<div>\n",
       "<style scoped>\n",
       "    .dataframe tbody tr th:only-of-type {\n",
       "        vertical-align: middle;\n",
       "    }\n",
       "\n",
       "    .dataframe tbody tr th {\n",
       "        vertical-align: top;\n",
       "    }\n",
       "\n",
       "    .dataframe thead th {\n",
       "        text-align: right;\n",
       "    }\n",
       "</style>\n",
       "<table border=\"1\" class=\"dataframe\">\n",
       "  <thead>\n",
       "    <tr style=\"text-align: right;\">\n",
       "      <th></th>\n",
       "      <th>year</th>\n",
       "      <th>loan_limit</th>\n",
       "      <th>Gender</th>\n",
       "      <th>approv_in_adv</th>\n",
       "      <th>loan_type</th>\n",
       "      <th>loan_purpose</th>\n",
       "      <th>Credit_Worthiness</th>\n",
       "      <th>open_credit</th>\n",
       "      <th>business_or_commercial</th>\n",
       "      <th>loan_amount</th>\n",
       "      <th>...</th>\n",
       "      <th>credit_type</th>\n",
       "      <th>Credit_Score</th>\n",
       "      <th>co-applicant_credit_type</th>\n",
       "      <th>age</th>\n",
       "      <th>submission_of_application</th>\n",
       "      <th>LTV</th>\n",
       "      <th>Region</th>\n",
       "      <th>Security_Type</th>\n",
       "      <th>Status</th>\n",
       "      <th>dtir1</th>\n",
       "    </tr>\n",
       "    <tr>\n",
       "      <th>ID</th>\n",
       "      <th></th>\n",
       "      <th></th>\n",
       "      <th></th>\n",
       "      <th></th>\n",
       "      <th></th>\n",
       "      <th></th>\n",
       "      <th></th>\n",
       "      <th></th>\n",
       "      <th></th>\n",
       "      <th></th>\n",
       "      <th></th>\n",
       "      <th></th>\n",
       "      <th></th>\n",
       "      <th></th>\n",
       "      <th></th>\n",
       "      <th></th>\n",
       "      <th></th>\n",
       "      <th></th>\n",
       "      <th></th>\n",
       "      <th></th>\n",
       "      <th></th>\n",
       "    </tr>\n",
       "  </thead>\n",
       "  <tbody>\n",
       "    <tr>\n",
       "      <th>24890</th>\n",
       "      <td>2019</td>\n",
       "      <td>cf</td>\n",
       "      <td>Sex Not Available</td>\n",
       "      <td>nopre</td>\n",
       "      <td>type1</td>\n",
       "      <td>p1</td>\n",
       "      <td>l1</td>\n",
       "      <td>nopc</td>\n",
       "      <td>nob/c</td>\n",
       "      <td>116500</td>\n",
       "      <td>...</td>\n",
       "      <td>EXP</td>\n",
       "      <td>758</td>\n",
       "      <td>CIB</td>\n",
       "      <td>25-34</td>\n",
       "      <td>to_inst</td>\n",
       "      <td>98.728814</td>\n",
       "      <td>south</td>\n",
       "      <td>direct</td>\n",
       "      <td>1</td>\n",
       "      <td>45.0</td>\n",
       "    </tr>\n",
       "    <tr>\n",
       "      <th>24891</th>\n",
       "      <td>2019</td>\n",
       "      <td>cf</td>\n",
       "      <td>Male</td>\n",
       "      <td>nopre</td>\n",
       "      <td>type2</td>\n",
       "      <td>p1</td>\n",
       "      <td>l1</td>\n",
       "      <td>nopc</td>\n",
       "      <td>b/c</td>\n",
       "      <td>206500</td>\n",
       "      <td>...</td>\n",
       "      <td>EQUI</td>\n",
       "      <td>552</td>\n",
       "      <td>EXP</td>\n",
       "      <td>55-64</td>\n",
       "      <td>to_inst</td>\n",
       "      <td>NaN</td>\n",
       "      <td>North</td>\n",
       "      <td>direct</td>\n",
       "      <td>1</td>\n",
       "      <td>NaN</td>\n",
       "    </tr>\n",
       "    <tr>\n",
       "      <th>24892</th>\n",
       "      <td>2019</td>\n",
       "      <td>cf</td>\n",
       "      <td>Male</td>\n",
       "      <td>pre</td>\n",
       "      <td>type1</td>\n",
       "      <td>p1</td>\n",
       "      <td>l1</td>\n",
       "      <td>nopc</td>\n",
       "      <td>nob/c</td>\n",
       "      <td>406500</td>\n",
       "      <td>...</td>\n",
       "      <td>EXP</td>\n",
       "      <td>834</td>\n",
       "      <td>CIB</td>\n",
       "      <td>35-44</td>\n",
       "      <td>to_inst</td>\n",
       "      <td>80.019685</td>\n",
       "      <td>south</td>\n",
       "      <td>direct</td>\n",
       "      <td>0</td>\n",
       "      <td>46.0</td>\n",
       "    </tr>\n",
       "    <tr>\n",
       "      <th>24893</th>\n",
       "      <td>2019</td>\n",
       "      <td>cf</td>\n",
       "      <td>Male</td>\n",
       "      <td>nopre</td>\n",
       "      <td>type1</td>\n",
       "      <td>p4</td>\n",
       "      <td>l1</td>\n",
       "      <td>nopc</td>\n",
       "      <td>nob/c</td>\n",
       "      <td>456500</td>\n",
       "      <td>...</td>\n",
       "      <td>EXP</td>\n",
       "      <td>587</td>\n",
       "      <td>CIB</td>\n",
       "      <td>45-54</td>\n",
       "      <td>not_inst</td>\n",
       "      <td>69.376900</td>\n",
       "      <td>North</td>\n",
       "      <td>direct</td>\n",
       "      <td>0</td>\n",
       "      <td>42.0</td>\n",
       "    </tr>\n",
       "    <tr>\n",
       "      <th>24894</th>\n",
       "      <td>2019</td>\n",
       "      <td>cf</td>\n",
       "      <td>Joint</td>\n",
       "      <td>pre</td>\n",
       "      <td>type1</td>\n",
       "      <td>p1</td>\n",
       "      <td>l1</td>\n",
       "      <td>nopc</td>\n",
       "      <td>nob/c</td>\n",
       "      <td>696500</td>\n",
       "      <td>...</td>\n",
       "      <td>CRIF</td>\n",
       "      <td>602</td>\n",
       "      <td>EXP</td>\n",
       "      <td>25-34</td>\n",
       "      <td>not_inst</td>\n",
       "      <td>91.886544</td>\n",
       "      <td>North</td>\n",
       "      <td>direct</td>\n",
       "      <td>0</td>\n",
       "      <td>39.0</td>\n",
       "    </tr>\n",
       "    <tr>\n",
       "      <th>...</th>\n",
       "      <td>...</td>\n",
       "      <td>...</td>\n",
       "      <td>...</td>\n",
       "      <td>...</td>\n",
       "      <td>...</td>\n",
       "      <td>...</td>\n",
       "      <td>...</td>\n",
       "      <td>...</td>\n",
       "      <td>...</td>\n",
       "      <td>...</td>\n",
       "      <td>...</td>\n",
       "      <td>...</td>\n",
       "      <td>...</td>\n",
       "      <td>...</td>\n",
       "      <td>...</td>\n",
       "      <td>...</td>\n",
       "      <td>...</td>\n",
       "      <td>...</td>\n",
       "      <td>...</td>\n",
       "      <td>...</td>\n",
       "      <td>...</td>\n",
       "    </tr>\n",
       "    <tr>\n",
       "      <th>173555</th>\n",
       "      <td>2019</td>\n",
       "      <td>cf</td>\n",
       "      <td>Sex Not Available</td>\n",
       "      <td>nopre</td>\n",
       "      <td>type1</td>\n",
       "      <td>p3</td>\n",
       "      <td>l1</td>\n",
       "      <td>nopc</td>\n",
       "      <td>nob/c</td>\n",
       "      <td>436500</td>\n",
       "      <td>...</td>\n",
       "      <td>CIB</td>\n",
       "      <td>659</td>\n",
       "      <td>EXP</td>\n",
       "      <td>55-64</td>\n",
       "      <td>to_inst</td>\n",
       "      <td>71.792763</td>\n",
       "      <td>south</td>\n",
       "      <td>direct</td>\n",
       "      <td>0</td>\n",
       "      <td>48.0</td>\n",
       "    </tr>\n",
       "    <tr>\n",
       "      <th>173556</th>\n",
       "      <td>2019</td>\n",
       "      <td>cf</td>\n",
       "      <td>Male</td>\n",
       "      <td>nopre</td>\n",
       "      <td>type1</td>\n",
       "      <td>p1</td>\n",
       "      <td>l1</td>\n",
       "      <td>nopc</td>\n",
       "      <td>nob/c</td>\n",
       "      <td>586500</td>\n",
       "      <td>...</td>\n",
       "      <td>CIB</td>\n",
       "      <td>569</td>\n",
       "      <td>CIB</td>\n",
       "      <td>25-34</td>\n",
       "      <td>not_inst</td>\n",
       "      <td>74.428934</td>\n",
       "      <td>south</td>\n",
       "      <td>direct</td>\n",
       "      <td>0</td>\n",
       "      <td>15.0</td>\n",
       "    </tr>\n",
       "    <tr>\n",
       "      <th>173557</th>\n",
       "      <td>2019</td>\n",
       "      <td>cf</td>\n",
       "      <td>Male</td>\n",
       "      <td>nopre</td>\n",
       "      <td>type1</td>\n",
       "      <td>p4</td>\n",
       "      <td>l1</td>\n",
       "      <td>nopc</td>\n",
       "      <td>nob/c</td>\n",
       "      <td>446500</td>\n",
       "      <td>...</td>\n",
       "      <td>CIB</td>\n",
       "      <td>702</td>\n",
       "      <td>EXP</td>\n",
       "      <td>45-54</td>\n",
       "      <td>not_inst</td>\n",
       "      <td>61.332418</td>\n",
       "      <td>North</td>\n",
       "      <td>direct</td>\n",
       "      <td>0</td>\n",
       "      <td>49.0</td>\n",
       "    </tr>\n",
       "    <tr>\n",
       "      <th>173558</th>\n",
       "      <td>2019</td>\n",
       "      <td>cf</td>\n",
       "      <td>Female</td>\n",
       "      <td>nopre</td>\n",
       "      <td>type1</td>\n",
       "      <td>p4</td>\n",
       "      <td>l1</td>\n",
       "      <td>nopc</td>\n",
       "      <td>nob/c</td>\n",
       "      <td>196500</td>\n",
       "      <td>...</td>\n",
       "      <td>EXP</td>\n",
       "      <td>737</td>\n",
       "      <td>EXP</td>\n",
       "      <td>55-64</td>\n",
       "      <td>to_inst</td>\n",
       "      <td>70.683453</td>\n",
       "      <td>North</td>\n",
       "      <td>direct</td>\n",
       "      <td>0</td>\n",
       "      <td>29.0</td>\n",
       "    </tr>\n",
       "    <tr>\n",
       "      <th>173559</th>\n",
       "      <td>2019</td>\n",
       "      <td>cf</td>\n",
       "      <td>Female</td>\n",
       "      <td>nopre</td>\n",
       "      <td>type1</td>\n",
       "      <td>p3</td>\n",
       "      <td>l1</td>\n",
       "      <td>nopc</td>\n",
       "      <td>nob/c</td>\n",
       "      <td>406500</td>\n",
       "      <td>...</td>\n",
       "      <td>CIB</td>\n",
       "      <td>830</td>\n",
       "      <td>CIB</td>\n",
       "      <td>45-54</td>\n",
       "      <td>not_inst</td>\n",
       "      <td>72.849462</td>\n",
       "      <td>North</td>\n",
       "      <td>direct</td>\n",
       "      <td>0</td>\n",
       "      <td>44.0</td>\n",
       "    </tr>\n",
       "  </tbody>\n",
       "</table>\n",
       "<p>148670 rows × 33 columns</p>\n",
       "</div>"
      ],
      "text/plain": [
       "        year loan_limit             Gender approv_in_adv loan_type  \\\n",
       "ID                                                                   \n",
       "24890   2019         cf  Sex Not Available         nopre     type1   \n",
       "24891   2019         cf               Male         nopre     type2   \n",
       "24892   2019         cf               Male           pre     type1   \n",
       "24893   2019         cf               Male         nopre     type1   \n",
       "24894   2019         cf              Joint           pre     type1   \n",
       "...      ...        ...                ...           ...       ...   \n",
       "173555  2019         cf  Sex Not Available         nopre     type1   \n",
       "173556  2019         cf               Male         nopre     type1   \n",
       "173557  2019         cf               Male         nopre     type1   \n",
       "173558  2019         cf             Female         nopre     type1   \n",
       "173559  2019         cf             Female         nopre     type1   \n",
       "\n",
       "       loan_purpose Credit_Worthiness open_credit business_or_commercial  \\\n",
       "ID                                                                         \n",
       "24890            p1                l1        nopc                  nob/c   \n",
       "24891            p1                l1        nopc                    b/c   \n",
       "24892            p1                l1        nopc                  nob/c   \n",
       "24893            p4                l1        nopc                  nob/c   \n",
       "24894            p1                l1        nopc                  nob/c   \n",
       "...             ...               ...         ...                    ...   \n",
       "173555           p3                l1        nopc                  nob/c   \n",
       "173556           p1                l1        nopc                  nob/c   \n",
       "173557           p4                l1        nopc                  nob/c   \n",
       "173558           p4                l1        nopc                  nob/c   \n",
       "173559           p3                l1        nopc                  nob/c   \n",
       "\n",
       "        loan_amount  ...  credit_type  Credit_Score  co-applicant_credit_type  \\\n",
       "ID                   ...                                                        \n",
       "24890        116500  ...          EXP           758                       CIB   \n",
       "24891        206500  ...         EQUI           552                       EXP   \n",
       "24892        406500  ...          EXP           834                       CIB   \n",
       "24893        456500  ...          EXP           587                       CIB   \n",
       "24894        696500  ...         CRIF           602                       EXP   \n",
       "...             ...  ...          ...           ...                       ...   \n",
       "173555       436500  ...          CIB           659                       EXP   \n",
       "173556       586500  ...          CIB           569                       CIB   \n",
       "173557       446500  ...          CIB           702                       EXP   \n",
       "173558       196500  ...          EXP           737                       EXP   \n",
       "173559       406500  ...          CIB           830                       CIB   \n",
       "\n",
       "          age submission_of_application        LTV Region  Security_Type  \\\n",
       "ID                                                                         \n",
       "24890   25-34                   to_inst  98.728814  south         direct   \n",
       "24891   55-64                   to_inst        NaN  North         direct   \n",
       "24892   35-44                   to_inst  80.019685  south         direct   \n",
       "24893   45-54                  not_inst  69.376900  North         direct   \n",
       "24894   25-34                  not_inst  91.886544  North         direct   \n",
       "...       ...                       ...        ...    ...            ...   \n",
       "173555  55-64                   to_inst  71.792763  south         direct   \n",
       "173556  25-34                  not_inst  74.428934  south         direct   \n",
       "173557  45-54                  not_inst  61.332418  North         direct   \n",
       "173558  55-64                   to_inst  70.683453  North         direct   \n",
       "173559  45-54                  not_inst  72.849462  North         direct   \n",
       "\n",
       "       Status dtir1  \n",
       "ID                   \n",
       "24890       1  45.0  \n",
       "24891       1   NaN  \n",
       "24892       0  46.0  \n",
       "24893       0  42.0  \n",
       "24894       0  39.0  \n",
       "...       ...   ...  \n",
       "173555      0  48.0  \n",
       "173556      0  15.0  \n",
       "173557      0  49.0  \n",
       "173558      0  29.0  \n",
       "173559      0  44.0  \n",
       "\n",
       "[148670 rows x 33 columns]"
      ]
     },
     "execution_count": 241,
     "metadata": {},
     "output_type": "execute_result"
    }
   ],
   "source": [
    "df                                                                                      "
   ]
  },
  {
   "cell_type": "code",
   "execution_count": 242,
   "id": "e8230a0f",
   "metadata": {
    "execution": {
     "iopub.execute_input": "2023-05-11T14:21:32.847112Z",
     "iopub.status.busy": "2023-05-11T14:21:32.846677Z",
     "iopub.status.idle": "2023-05-11T14:21:32.853766Z",
     "shell.execute_reply": "2023-05-11T14:21:32.852548Z"
    },
    "papermill": {
     "duration": 0.029713,
     "end_time": "2023-05-11T14:21:32.856027",
     "exception": false,
     "start_time": "2023-05-11T14:21:32.826314",
     "status": "completed"
    },
    "tags": []
   },
   "outputs": [
    {
     "data": {
      "text/plain": [
       "(148670, 33)"
      ]
     },
     "execution_count": 242,
     "metadata": {},
     "output_type": "execute_result"
    }
   ],
   "source": [
    "df.shape"
   ]
  },
  {
   "cell_type": "code",
   "execution_count": 243,
   "id": "7a8c36e3",
   "metadata": {
    "execution": {
     "iopub.execute_input": "2023-05-11T14:21:32.897120Z",
     "iopub.status.busy": "2023-05-11T14:21:32.896085Z",
     "iopub.status.idle": "2023-05-11T14:21:33.884703Z",
     "shell.execute_reply": "2023-05-11T14:21:33.883021Z"
    },
    "papermill": {
     "duration": 1.012093,
     "end_time": "2023-05-11T14:21:33.887614",
     "exception": false,
     "start_time": "2023-05-11T14:21:32.875521",
     "status": "completed"
    },
    "tags": []
   },
   "outputs": [
    {
     "name": "stdout",
     "output_type": "stream",
     "text": [
      "<class 'pandas.core.frame.DataFrame'>\n",
      "Int64Index: 148670 entries, 24890 to 173559\n",
      "Data columns (total 33 columns):\n",
      " #   Column                     Non-Null Count   Dtype  \n",
      "---  ------                     --------------   -----  \n",
      " 0   year                       148670 non-null  int64  \n",
      " 1   loan_limit                 145326 non-null  object \n",
      " 2   Gender                     148670 non-null  object \n",
      " 3   approv_in_adv              147762 non-null  object \n",
      " 4   loan_type                  148670 non-null  object \n",
      " 5   loan_purpose               148536 non-null  object \n",
      " 6   Credit_Worthiness          148670 non-null  object \n",
      " 7   open_credit                148670 non-null  object \n",
      " 8   business_or_commercial     148670 non-null  object \n",
      " 9   loan_amount                148670 non-null  int64  \n",
      " 10  rate_of_interest           112231 non-null  float64\n",
      " 11  Interest_rate_spread       112031 non-null  float64\n",
      " 12  Upfront_charges            109028 non-null  float64\n",
      " 13  term                       148629 non-null  float64\n",
      " 14  Neg_ammortization          148549 non-null  object \n",
      " 15  interest_only              148670 non-null  object \n",
      " 16  lump_sum_payment           148670 non-null  object \n",
      " 17  property_value             133572 non-null  float64\n",
      " 18  construction_type          148670 non-null  object \n",
      " 19  occupancy_type             148670 non-null  object \n",
      " 20  Secured_by                 148670 non-null  object \n",
      " 21  total_units                148670 non-null  object \n",
      " 22  income                     139520 non-null  float64\n",
      " 23  credit_type                148670 non-null  object \n",
      " 24  Credit_Score               148670 non-null  int64  \n",
      " 25  co-applicant_credit_type   148670 non-null  object \n",
      " 26  age                        148470 non-null  object \n",
      " 27  submission_of_application  148470 non-null  object \n",
      " 28  LTV                        133572 non-null  float64\n",
      " 29  Region                     148670 non-null  object \n",
      " 30  Security_Type              148670 non-null  object \n",
      " 31  Status                     148670 non-null  int64  \n",
      " 32  dtir1                      124549 non-null  float64\n",
      "dtypes: float64(8), int64(4), object(21)\n",
      "memory usage: 38.6+ MB\n"
     ]
    }
   ],
   "source": [
    "df.info()"
   ]
  },
  {
   "cell_type": "code",
   "execution_count": 244,
   "id": "fa7c80a6",
   "metadata": {
    "execution": {
     "iopub.execute_input": "2023-05-11T14:21:33.928519Z",
     "iopub.status.busy": "2023-05-11T14:21:33.928079Z",
     "iopub.status.idle": "2023-05-11T14:21:34.905689Z",
     "shell.execute_reply": "2023-05-11T14:21:34.904557Z"
    },
    "papermill": {
     "duration": 1.001321,
     "end_time": "2023-05-11T14:21:34.908225",
     "exception": false,
     "start_time": "2023-05-11T14:21:33.906904",
     "status": "completed"
    },
    "tags": []
   },
   "outputs": [
    {
     "data": {
      "text/plain": [
       "year                             0\n",
       "loan_limit                    3344\n",
       "Gender                           0\n",
       "approv_in_adv                  908\n",
       "loan_type                        0\n",
       "loan_purpose                   134\n",
       "Credit_Worthiness                0\n",
       "open_credit                      0\n",
       "business_or_commercial           0\n",
       "loan_amount                      0\n",
       "rate_of_interest             36439\n",
       "Interest_rate_spread         36639\n",
       "Upfront_charges              39642\n",
       "term                            41\n",
       "Neg_ammortization              121\n",
       "interest_only                    0\n",
       "lump_sum_payment                 0\n",
       "property_value               15098\n",
       "construction_type                0\n",
       "occupancy_type                   0\n",
       "Secured_by                       0\n",
       "total_units                      0\n",
       "income                        9150\n",
       "credit_type                      0\n",
       "Credit_Score                     0\n",
       "co-applicant_credit_type         0\n",
       "age                            200\n",
       "submission_of_application      200\n",
       "LTV                          15098\n",
       "Region                           0\n",
       "Security_Type                    0\n",
       "Status                           0\n",
       "dtir1                        24121\n",
       "dtype: int64"
      ]
     },
     "execution_count": 244,
     "metadata": {},
     "output_type": "execute_result"
    }
   ],
   "source": [
    "df.isna().sum()"
   ]
  },
  {
   "cell_type": "code",
   "execution_count": 245,
   "id": "d9128888",
   "metadata": {
    "execution": {
     "iopub.execute_input": "2023-05-11T14:21:34.949735Z",
     "iopub.status.busy": "2023-05-11T14:21:34.949272Z",
     "iopub.status.idle": "2023-05-11T14:21:34.980396Z",
     "shell.execute_reply": "2023-05-11T14:21:34.979370Z"
    },
    "papermill": {
     "duration": 0.0553,
     "end_time": "2023-05-11T14:21:34.983410",
     "exception": false,
     "start_time": "2023-05-11T14:21:34.928110",
     "status": "completed"
    },
    "tags": []
   },
   "outputs": [],
   "source": [
    "df['rate_of_interest'] = df['rate_of_interest'].fillna(df['rate_of_interest'].median())\n",
    "df['Interest_rate_spread'] = df['Interest_rate_spread'].fillna(df['Interest_rate_spread'].median())\n",
    "df['Upfront_charges'] = df['Upfront_charges'].fillna(df['Upfront_charges'].median())\n",
    "df['property_value'] = df['property_value'].fillna(df['property_value'].median())\n",
    "df['income'] = df['income'].fillna(df['income'].median())\n",
    "df['LTV'] = df['LTV'].fillna(df['LTV'].median())\n",
    "df['dtir1']=df['dtir1'].fillna(df['dtir1'].median())"
   ]
  },
  {
   "cell_type": "code",
   "execution_count": 246,
   "id": "64b3a4bd",
   "metadata": {
    "execution": {
     "iopub.execute_input": "2023-05-11T14:21:35.025361Z",
     "iopub.status.busy": "2023-05-11T14:21:35.024527Z",
     "iopub.status.idle": "2023-05-11T14:21:36.009440Z",
     "shell.execute_reply": "2023-05-11T14:21:36.008518Z"
    },
    "papermill": {
     "duration": 1.00857,
     "end_time": "2023-05-11T14:21:36.011934",
     "exception": false,
     "start_time": "2023-05-11T14:21:35.003364",
     "status": "completed"
    },
    "tags": []
   },
   "outputs": [
    {
     "data": {
      "text/plain": [
       "year                            0\n",
       "loan_limit                   3344\n",
       "Gender                          0\n",
       "approv_in_adv                 908\n",
       "loan_type                       0\n",
       "loan_purpose                  134\n",
       "Credit_Worthiness               0\n",
       "open_credit                     0\n",
       "business_or_commercial          0\n",
       "loan_amount                     0\n",
       "rate_of_interest                0\n",
       "Interest_rate_spread            0\n",
       "Upfront_charges                 0\n",
       "term                           41\n",
       "Neg_ammortization             121\n",
       "interest_only                   0\n",
       "lump_sum_payment                0\n",
       "property_value                  0\n",
       "construction_type               0\n",
       "occupancy_type                  0\n",
       "Secured_by                      0\n",
       "total_units                     0\n",
       "income                          0\n",
       "credit_type                     0\n",
       "Credit_Score                    0\n",
       "co-applicant_credit_type        0\n",
       "age                           200\n",
       "submission_of_application     200\n",
       "LTV                             0\n",
       "Region                          0\n",
       "Security_Type                   0\n",
       "Status                          0\n",
       "dtir1                           0\n",
       "dtype: int64"
      ]
     },
     "execution_count": 246,
     "metadata": {},
     "output_type": "execute_result"
    }
   ],
   "source": [
    "df.isna().sum()"
   ]
  },
  {
   "cell_type": "code",
   "execution_count": 247,
   "id": "c0124bca",
   "metadata": {
    "execution": {
     "iopub.execute_input": "2023-05-11T14:21:36.054876Z",
     "iopub.status.busy": "2023-05-11T14:21:36.054433Z",
     "iopub.status.idle": "2023-05-11T14:21:37.096061Z",
     "shell.execute_reply": "2023-05-11T14:21:37.094956Z"
    },
    "papermill": {
     "duration": 1.067295,
     "end_time": "2023-05-11T14:21:37.099176",
     "exception": false,
     "start_time": "2023-05-11T14:21:36.031881",
     "status": "completed"
    },
    "tags": []
   },
   "outputs": [],
   "source": [
    "df = df.dropna()"
   ]
  },
  {
   "cell_type": "code",
   "execution_count": 248,
   "id": "005a9cd1",
   "metadata": {
    "execution": {
     "iopub.execute_input": "2023-05-11T14:21:37.141464Z",
     "iopub.status.busy": "2023-05-11T14:21:37.141022Z",
     "iopub.status.idle": "2023-05-11T14:21:37.933667Z",
     "shell.execute_reply": "2023-05-11T14:21:37.932323Z"
    },
    "papermill": {
     "duration": 0.81665,
     "end_time": "2023-05-11T14:21:37.936508",
     "exception": false,
     "start_time": "2023-05-11T14:21:37.119858",
     "status": "completed"
    },
    "tags": []
   },
   "outputs": [
    {
     "data": {
      "text/plain": [
       "year                         0\n",
       "loan_limit                   0\n",
       "Gender                       0\n",
       "approv_in_adv                0\n",
       "loan_type                    0\n",
       "loan_purpose                 0\n",
       "Credit_Worthiness            0\n",
       "open_credit                  0\n",
       "business_or_commercial       0\n",
       "loan_amount                  0\n",
       "rate_of_interest             0\n",
       "Interest_rate_spread         0\n",
       "Upfront_charges              0\n",
       "term                         0\n",
       "Neg_ammortization            0\n",
       "interest_only                0\n",
       "lump_sum_payment             0\n",
       "property_value               0\n",
       "construction_type            0\n",
       "occupancy_type               0\n",
       "Secured_by                   0\n",
       "total_units                  0\n",
       "income                       0\n",
       "credit_type                  0\n",
       "Credit_Score                 0\n",
       "co-applicant_credit_type     0\n",
       "age                          0\n",
       "submission_of_application    0\n",
       "LTV                          0\n",
       "Region                       0\n",
       "Security_Type                0\n",
       "Status                       0\n",
       "dtir1                        0\n",
       "dtype: int64"
      ]
     },
     "execution_count": 248,
     "metadata": {},
     "output_type": "execute_result"
    }
   ],
   "source": [
    "df.isna().sum()"
   ]
  },
  {
   "cell_type": "code",
   "execution_count": 249,
   "id": "01fbfed2",
   "metadata": {
    "execution": {
     "iopub.execute_input": "2023-05-11T14:21:37.978976Z",
     "iopub.status.busy": "2023-05-11T14:21:37.978512Z",
     "iopub.status.idle": "2023-05-11T14:21:38.786422Z",
     "shell.execute_reply": "2023-05-11T14:21:38.785567Z"
    },
    "papermill": {
     "duration": 0.832482,
     "end_time": "2023-05-11T14:21:38.789231",
     "exception": false,
     "start_time": "2023-05-11T14:21:37.956749",
     "status": "completed"
    },
    "tags": []
   },
   "outputs": [
    {
     "name": "stdout",
     "output_type": "stream",
     "text": [
      "<class 'pandas.core.frame.DataFrame'>\n",
      "Int64Index: 143942 entries, 24890 to 173559\n",
      "Data columns (total 33 columns):\n",
      " #   Column                     Non-Null Count   Dtype  \n",
      "---  ------                     --------------   -----  \n",
      " 0   year                       143942 non-null  int64  \n",
      " 1   loan_limit                 143942 non-null  object \n",
      " 2   Gender                     143942 non-null  object \n",
      " 3   approv_in_adv              143942 non-null  object \n",
      " 4   loan_type                  143942 non-null  object \n",
      " 5   loan_purpose               143942 non-null  object \n",
      " 6   Credit_Worthiness          143942 non-null  object \n",
      " 7   open_credit                143942 non-null  object \n",
      " 8   business_or_commercial     143942 non-null  object \n",
      " 9   loan_amount                143942 non-null  int64  \n",
      " 10  rate_of_interest           143942 non-null  float64\n",
      " 11  Interest_rate_spread       143942 non-null  float64\n",
      " 12  Upfront_charges            143942 non-null  float64\n",
      " 13  term                       143942 non-null  float64\n",
      " 14  Neg_ammortization          143942 non-null  object \n",
      " 15  interest_only              143942 non-null  object \n",
      " 16  lump_sum_payment           143942 non-null  object \n",
      " 17  property_value             143942 non-null  float64\n",
      " 18  construction_type          143942 non-null  object \n",
      " 19  occupancy_type             143942 non-null  object \n",
      " 20  Secured_by                 143942 non-null  object \n",
      " 21  total_units                143942 non-null  object \n",
      " 22  income                     143942 non-null  float64\n",
      " 23  credit_type                143942 non-null  object \n",
      " 24  Credit_Score               143942 non-null  int64  \n",
      " 25  co-applicant_credit_type   143942 non-null  object \n",
      " 26  age                        143942 non-null  object \n",
      " 27  submission_of_application  143942 non-null  object \n",
      " 28  LTV                        143942 non-null  float64\n",
      " 29  Region                     143942 non-null  object \n",
      " 30  Security_Type              143942 non-null  object \n",
      " 31  Status                     143942 non-null  int64  \n",
      " 32  dtir1                      143942 non-null  float64\n",
      "dtypes: float64(8), int64(4), object(21)\n",
      "memory usage: 37.3+ MB\n"
     ]
    }
   ],
   "source": [
    "df.info()"
   ]
  },
  {
   "cell_type": "code",
   "execution_count": 250,
   "id": "5235091e",
   "metadata": {},
   "outputs": [
    {
     "data": {
      "image/png": "[encoded data removed]",
      "text/plain": [
       "<Figure size 640x480 with 1 Axes>"
      ]
     },
     "metadata": {},
     "output_type": "display_data"
    }
   ],
   "source": [
    "sns.boxplot(df)\n",
    "plt.tight_layout()\n",
    "plt.xticks(rotation=90)\n",
    "plt.show()"
   ]
  },
  {
   "cell_type": "code",
   "execution_count": 251,
   "id": "43fb944d",
   "metadata": {
    "execution": {
     "iopub.execute_input": "2023-05-11T14:21:38.831462Z",
     "iopub.status.busy": "2023-05-11T14:21:38.830994Z",
     "iopub.status.idle": "2023-05-11T14:21:38.870890Z",
     "shell.execute_reply": "2023-05-11T14:21:38.869561Z"
    },
    "papermill": {
     "duration": 0.06445,
     "end_time": "2023-05-11T14:21:38.873768",
     "exception": false,
     "start_time": "2023-05-11T14:21:38.809318",
     "status": "completed"
    },
    "tags": []
   },
   "outputs": [],
   "source": [
    "col_cat = df[['loan_limit','Gender','approv_in_adv','loan_type','loan_purpose','age','Credit_Worthiness','open_credit','total_units','business_or_commercial','lump_sum_payment','Secured_by','credit_type','submission_of_application','Region','Security_Type','co-applicant_credit_type','occupancy_type','construction_type','interest_only','Neg_ammortization',]]"
   ]
  },
  {
   "cell_type": "code",
   "execution_count": 252,
   "id": "a975048a",
   "metadata": {
    "execution": {
     "iopub.execute_input": "2023-05-11T14:21:38.918959Z",
     "iopub.status.busy": "2023-05-11T14:21:38.918498Z",
     "iopub.status.idle": "2023-05-11T14:21:47.393796Z",
     "shell.execute_reply": "2023-05-11T14:21:47.392678Z"
    },
    "papermill": {
     "duration": 8.500604,
     "end_time": "2023-05-11T14:21:47.396572",
     "exception": false,
     "start_time": "2023-05-11T14:21:38.895968",
     "status": "completed"
    },
    "tags": []
   },
   "outputs": [
    {
     "data": {
      "image/png": "[encoded data removed]",
      "text/plain": [
       "<Figure size 640x480 with 1 Axes>"
      ]
     },
     "metadata": {},
     "output_type": "display_data"
    },
    {
     "data": {
      "image/png": "[encoded data removed]",
      "text/plain": [
       "<Figure size 640x480 with 1 Axes>"
      ]
     },
     "metadata": {},
     "output_type": "display_data"
    },
    {
     "data": {
      "image/png": "[encoded data removed]",
      "text/plain": [
       "<Figure size 640x480 with 1 Axes>"
      ]
     },
     "metadata": {},
     "output_type": "display_data"
    },
    {
     "data": {
      "image/png": "[encoded data removed]",
      "text/plain": [
       "<Figure size 640x480 with 1 Axes>"
      ]
     },
     "metadata": {},
     "output_type": "display_data"
    },
    {
     "data": {
      "image/png": "[encoded data removed]",
      "text/plain": [
       "<Figure size 640x480 with 1 Axes>"
      ]
     },
     "metadata": {},
     "output_type": "display_data"
    },
    {
     "data": {
      "image/png": "[encoded data removed]",
      "text/plain": [
       "<Figure size 640x480 with 1 Axes>"
      ]
     },
     "metadata": {},
     "output_type": "display_data"
    },
    {
     "data": {
      "image/png": "[encoded data removed]",
      "text/plain": [
       "<Figure size 640x480 with 1 Axes>"
      ]
     },
     "metadata": {},
     "output_type": "display_data"
    },
    {
     "data": {
      "image/png": "[encoded data removed]",
      "text/plain": [
       "<Figure size 640x480 with 1 Axes>"
      ]
     },
     "metadata": {},
     "output_type": "display_data"
    },
    {
     "data": {
      "image/png": "[encoded data removed]",
      "text/plain": [
       "<Figure size 640x480 with 1 Axes>"
      ]
     },
     "metadata": {},
     "output_type": "display_data"
    },
    {
     "data": {
      "image/png": "[encoded data removed]",
      "text/plain": [
       "<Figure size 640x480 with 1 Axes>"
      ]
     },
     "metadata": {},
     "output_type": "display_data"
    },
    {
     "data": {
      "image/png": "[encoded data removed]",
      "text/plain": [
       "<Figure size 640x480 with 1 Axes>"
      ]
     },
     "metadata": {},
     "output_type": "display_data"
    },
    {
     "data": {
      "image/png": "[encoded data removed]",
      "text/plain": [
       "<Figure size 640x480 with 1 Axes>"
      ]
     },
     "metadata": {},
     "output_type": "display_data"
    },
    {
     "data": {
      "image/png": "[encoded data removed]",
      "text/plain": [
       "<Figure size 640x480 with 1 Axes>"
      ]
     },
     "metadata": {},
     "output_type": "display_data"
    },
    {
     "data": {
      "image/png": "[encoded data removed]",
      "text/plain": [
       "<Figure size 640x480 with 1 Axes>"
      ]
     },
     "metadata": {},
     "output_type": "display_data"
    },
    {
     "data": {
      "image/png": "[encoded data removed]",
      "text/plain": [
       "<Figure size 640x480 with 1 Axes>"
      ]
     },
     "metadata": {},
     "output_type": "display_data"
    },
    {
     "data": {
      "image/png": "[encoded data removed]",
      "text/plain": [
       "<Figure size 640x480 with 1 Axes>"
      ]
     },
     "metadata": {},
     "output_type": "display_data"
    },
    {
     "data": {
      "image/png": "[encoded data removed]",
      "text/plain": [
       "<Figure size 640x480 with 1 Axes>"
      ]
     },
     "metadata": {},
     "output_type": "display_data"
    },
    {
     "data": {
      "image/png": "[encoded data removed]",
      "text/plain": [
       "<Figure size 640x480 with 1 Axes>"
      ]
     },
     "metadata": {},
     "output_type": "display_data"
    },
    {
     "data": {
      "image/png": "[encoded data removed]",
      "text/plain": [
       "<Figure size 640x480 with 1 Axes>"
      ]
     },
     "metadata": {},
     "output_type": "display_data"
    },
    {
     "data": {
      "image/png": "[encoded data removed]",
      "text/plain": [
       "<Figure size 640x480 with 1 Axes>"
      ]
     },
     "metadata": {},
     "output_type": "display_data"
    },
    {
     "data": {
      "image/png": "[encoded data removed]",
      "text/plain": [
       "<Figure size 640x480 with 1 Axes>"
      ]
     },
     "metadata": {},
     "output_type": "display_data"
    }
   ],
   "source": [
    "for j in col_cat:\n",
    "  sns.countplot(data=df, x =j, palette='deep',hue=df['Status'])\n",
    "  plt.xticks()\n",
    "  plt.show()"
   ]
  },
  {
   "cell_type": "code",
   "execution_count": 253,
   "id": "ce4999ce",
   "metadata": {
    "execution": {
     "iopub.execute_input": "2023-05-11T14:21:47.455068Z",
     "iopub.status.busy": "2023-05-11T14:21:47.454621Z",
     "iopub.status.idle": "2023-05-11T14:21:48.848176Z",
     "shell.execute_reply": "2023-05-11T14:21:48.846982Z"
    },
    "papermill": {
     "duration": 1.427435,
     "end_time": "2023-05-11T14:21:48.852082",
     "exception": false,
     "start_time": "2023-05-11T14:21:47.424647",
     "status": "completed"
    },
    "tags": []
   },
   "outputs": [
    {
     "name": "stderr",
     "output_type": "stream",
     "text": [
      "C:\\Users\\Jayam\\AppData\\Local\\Temp\\ipykernel_2884\\269220512.py:1: FutureWarning: The default value of numeric_only in DataFrame.corr is deprecated. In a future version, it will default to False. Select only valid columns or specify the value of numeric_only to silence this warning.\n",
      "  corr = df.corr()\n"
     ]
    },
    {
     "data": {
      "image/png": "[encoded data removed]",
      "text/plain": [
       "<Figure size 1600x1600 with 2 Axes>"
      ]
     },
     "metadata": {},
     "output_type": "display_data"
    }
   ],
   "source": [
    "corr = df.corr()\n",
    "\n",
    "# Correlation Heatmap\n",
    "plt.figure(figsize=(16, 16))\n",
    "heatmap = sns.heatmap(corr, vmin=-1, vmax=1, annot=True)\n",
    "heatmap.set_title('Correlation Heatmap', fontdict={'fontsize':12}, pad=12)\n",
    "plt.tight_layout()"
   ]
  },
  {
   "attachments": {},
   "cell_type": "markdown",
   "id": "398463ae",
   "metadata": {
    "papermill": {
     "duration": 0.029802,
     "end_time": "2023-05-11T14:21:48.912978",
     "exception": false,
     "start_time": "2023-05-11T14:21:48.883176",
     "status": "completed"
    },
    "tags": []
   },
   "source": [
    "converting  categorical features into numeric values."
   ]
  },
  {
   "cell_type": "code",
   "execution_count": 254,
   "id": "5df58359",
   "metadata": {
    "execution": {
     "iopub.execute_input": "2023-05-11T14:21:48.976622Z",
     "iopub.status.busy": "2023-05-11T14:21:48.976120Z",
     "iopub.status.idle": "2023-05-11T14:21:50.307108Z",
     "shell.execute_reply": "2023-05-11T14:21:50.305770Z"
    },
    "papermill": {
     "duration": 1.366331,
     "end_time": "2023-05-11T14:21:50.309936",
     "exception": false,
     "start_time": "2023-05-11T14:21:48.943605",
     "status": "completed"
    },
    "tags": []
   },
   "outputs": [
    {
     "name": "stderr",
     "output_type": "stream",
     "text": [
      "C:\\Users\\Jayam\\AppData\\Local\\Temp\\ipykernel_2884\\3159560598.py:4: SettingWithCopyWarning: \n",
      "A value is trying to be set on a copy of a slice from a DataFrame.\n",
      "Try using .loc[row_indexer,col_indexer] = value instead\n",
      "\n",
      "See the caveats in the documentation: https://pandas.pydata.org/pandas-docs/stable/user_guide/indexing.html#returning-a-view-versus-a-copy\n",
      "  df[col] = le.fit_transform(df[col])\n",
      "C:\\Users\\Jayam\\AppData\\Local\\Temp\\ipykernel_2884\\3159560598.py:4: SettingWithCopyWarning: \n",
      "A value is trying to be set on a copy of a slice from a DataFrame.\n",
      "Try using .loc[row_indexer,col_indexer] = value instead\n",
      "\n",
      "See the caveats in the documentation: https://pandas.pydata.org/pandas-docs/stable/user_guide/indexing.html#returning-a-view-versus-a-copy\n",
      "  df[col] = le.fit_transform(df[col])\n",
      "C:\\Users\\Jayam\\AppData\\Local\\Temp\\ipykernel_2884\\3159560598.py:4: SettingWithCopyWarning: \n",
      "A value is trying to be set on a copy of a slice from a DataFrame.\n",
      "Try using .loc[row_indexer,col_indexer] = value instead\n",
      "\n",
      "See the caveats in the documentation: https://pandas.pydata.org/pandas-docs/stable/user_guide/indexing.html#returning-a-view-versus-a-copy\n",
      "  df[col] = le.fit_transform(df[col])\n",
      "C:\\Users\\Jayam\\AppData\\Local\\Temp\\ipykernel_2884\\3159560598.py:4: SettingWithCopyWarning: \n",
      "A value is trying to be set on a copy of a slice from a DataFrame.\n",
      "Try using .loc[row_indexer,col_indexer] = value instead\n",
      "\n",
      "See the caveats in the documentation: https://pandas.pydata.org/pandas-docs/stable/user_guide/indexing.html#returning-a-view-versus-a-copy\n",
      "  df[col] = le.fit_transform(df[col])\n",
      "C:\\Users\\Jayam\\AppData\\Local\\Temp\\ipykernel_2884\\3159560598.py:4: SettingWithCopyWarning: \n",
      "A value is trying to be set on a copy of a slice from a DataFrame.\n",
      "Try using .loc[row_indexer,col_indexer] = value instead\n",
      "\n",
      "See the caveats in the documentation: https://pandas.pydata.org/pandas-docs/stable/user_guide/indexing.html#returning-a-view-versus-a-copy\n",
      "  df[col] = le.fit_transform(df[col])\n",
      "C:\\Users\\Jayam\\AppData\\Local\\Temp\\ipykernel_2884\\3159560598.py:4: SettingWithCopyWarning: \n",
      "A value is trying to be set on a copy of a slice from a DataFrame.\n",
      "Try using .loc[row_indexer,col_indexer] = value instead\n",
      "\n",
      "See the caveats in the documentation: https://pandas.pydata.org/pandas-docs/stable/user_guide/indexing.html#returning-a-view-versus-a-copy\n",
      "  df[col] = le.fit_transform(df[col])\n",
      "C:\\Users\\Jayam\\AppData\\Local\\Temp\\ipykernel_2884\\3159560598.py:4: SettingWithCopyWarning: \n",
      "A value is trying to be set on a copy of a slice from a DataFrame.\n",
      "Try using .loc[row_indexer,col_indexer] = value instead\n",
      "\n",
      "See the caveats in the documentation: https://pandas.pydata.org/pandas-docs/stable/user_guide/indexing.html#returning-a-view-versus-a-copy\n",
      "  df[col] = le.fit_transform(df[col])\n",
      "C:\\Users\\Jayam\\AppData\\Local\\Temp\\ipykernel_2884\\3159560598.py:4: SettingWithCopyWarning: \n",
      "A value is trying to be set on a copy of a slice from a DataFrame.\n",
      "Try using .loc[row_indexer,col_indexer] = value instead\n",
      "\n",
      "See the caveats in the documentation: https://pandas.pydata.org/pandas-docs/stable/user_guide/indexing.html#returning-a-view-versus-a-copy\n",
      "  df[col] = le.fit_transform(df[col])\n",
      "C:\\Users\\Jayam\\AppData\\Local\\Temp\\ipykernel_2884\\3159560598.py:4: SettingWithCopyWarning: \n",
      "A value is trying to be set on a copy of a slice from a DataFrame.\n",
      "Try using .loc[row_indexer,col_indexer] = value instead\n",
      "\n",
      "See the caveats in the documentation: https://pandas.pydata.org/pandas-docs/stable/user_guide/indexing.html#returning-a-view-versus-a-copy\n",
      "  df[col] = le.fit_transform(df[col])\n",
      "C:\\Users\\Jayam\\AppData\\Local\\Temp\\ipykernel_2884\\3159560598.py:4: SettingWithCopyWarning: \n",
      "A value is trying to be set on a copy of a slice from a DataFrame.\n",
      "Try using .loc[row_indexer,col_indexer] = value instead\n",
      "\n",
      "See the caveats in the documentation: https://pandas.pydata.org/pandas-docs/stable/user_guide/indexing.html#returning-a-view-versus-a-copy\n",
      "  df[col] = le.fit_transform(df[col])\n",
      "C:\\Users\\Jayam\\AppData\\Local\\Temp\\ipykernel_2884\\3159560598.py:4: SettingWithCopyWarning: \n",
      "A value is trying to be set on a copy of a slice from a DataFrame.\n",
      "Try using .loc[row_indexer,col_indexer] = value instead\n",
      "\n",
      "See the caveats in the documentation: https://pandas.pydata.org/pandas-docs/stable/user_guide/indexing.html#returning-a-view-versus-a-copy\n",
      "  df[col] = le.fit_transform(df[col])\n",
      "C:\\Users\\Jayam\\AppData\\Local\\Temp\\ipykernel_2884\\3159560598.py:4: SettingWithCopyWarning: \n",
      "A value is trying to be set on a copy of a slice from a DataFrame.\n",
      "Try using .loc[row_indexer,col_indexer] = value instead\n",
      "\n",
      "See the caveats in the documentation: https://pandas.pydata.org/pandas-docs/stable/user_guide/indexing.html#returning-a-view-versus-a-copy\n",
      "  df[col] = le.fit_transform(df[col])\n",
      "C:\\Users\\Jayam\\AppData\\Local\\Temp\\ipykernel_2884\\3159560598.py:4: SettingWithCopyWarning: \n",
      "A value is trying to be set on a copy of a slice from a DataFrame.\n",
      "Try using .loc[row_indexer,col_indexer] = value instead\n",
      "\n",
      "See the caveats in the documentation: https://pandas.pydata.org/pandas-docs/stable/user_guide/indexing.html#returning-a-view-versus-a-copy\n",
      "  df[col] = le.fit_transform(df[col])\n",
      "C:\\Users\\Jayam\\AppData\\Local\\Temp\\ipykernel_2884\\3159560598.py:4: SettingWithCopyWarning: \n",
      "A value is trying to be set on a copy of a slice from a DataFrame.\n",
      "Try using .loc[row_indexer,col_indexer] = value instead\n",
      "\n",
      "See the caveats in the documentation: https://pandas.pydata.org/pandas-docs/stable/user_guide/indexing.html#returning-a-view-versus-a-copy\n",
      "  df[col] = le.fit_transform(df[col])\n",
      "C:\\Users\\Jayam\\AppData\\Local\\Temp\\ipykernel_2884\\3159560598.py:4: SettingWithCopyWarning: \n",
      "A value is trying to be set on a copy of a slice from a DataFrame.\n",
      "Try using .loc[row_indexer,col_indexer] = value instead\n",
      "\n",
      "See the caveats in the documentation: https://pandas.pydata.org/pandas-docs/stable/user_guide/indexing.html#returning-a-view-versus-a-copy\n",
      "  df[col] = le.fit_transform(df[col])\n",
      "C:\\Users\\Jayam\\AppData\\Local\\Temp\\ipykernel_2884\\3159560598.py:4: SettingWithCopyWarning: \n",
      "A value is trying to be set on a copy of a slice from a DataFrame.\n",
      "Try using .loc[row_indexer,col_indexer] = value instead\n",
      "\n",
      "See the caveats in the documentation: https://pandas.pydata.org/pandas-docs/stable/user_guide/indexing.html#returning-a-view-versus-a-copy\n",
      "  df[col] = le.fit_transform(df[col])\n",
      "C:\\Users\\Jayam\\AppData\\Local\\Temp\\ipykernel_2884\\3159560598.py:4: SettingWithCopyWarning: \n",
      "A value is trying to be set on a copy of a slice from a DataFrame.\n",
      "Try using .loc[row_indexer,col_indexer] = value instead\n",
      "\n",
      "See the caveats in the documentation: https://pandas.pydata.org/pandas-docs/stable/user_guide/indexing.html#returning-a-view-versus-a-copy\n",
      "  df[col] = le.fit_transform(df[col])\n",
      "C:\\Users\\Jayam\\AppData\\Local\\Temp\\ipykernel_2884\\3159560598.py:4: SettingWithCopyWarning: \n",
      "A value is trying to be set on a copy of a slice from a DataFrame.\n",
      "Try using .loc[row_indexer,col_indexer] = value instead\n",
      "\n",
      "See the caveats in the documentation: https://pandas.pydata.org/pandas-docs/stable/user_guide/indexing.html#returning-a-view-versus-a-copy\n",
      "  df[col] = le.fit_transform(df[col])\n",
      "C:\\Users\\Jayam\\AppData\\Local\\Temp\\ipykernel_2884\\3159560598.py:4: SettingWithCopyWarning: \n",
      "A value is trying to be set on a copy of a slice from a DataFrame.\n",
      "Try using .loc[row_indexer,col_indexer] = value instead\n",
      "\n",
      "See the caveats in the documentation: https://pandas.pydata.org/pandas-docs/stable/user_guide/indexing.html#returning-a-view-versus-a-copy\n",
      "  df[col] = le.fit_transform(df[col])\n",
      "C:\\Users\\Jayam\\AppData\\Local\\Temp\\ipykernel_2884\\3159560598.py:4: SettingWithCopyWarning: \n",
      "A value is trying to be set on a copy of a slice from a DataFrame.\n",
      "Try using .loc[row_indexer,col_indexer] = value instead\n",
      "\n",
      "See the caveats in the documentation: https://pandas.pydata.org/pandas-docs/stable/user_guide/indexing.html#returning-a-view-versus-a-copy\n",
      "  df[col] = le.fit_transform(df[col])\n",
      "C:\\Users\\Jayam\\AppData\\Local\\Temp\\ipykernel_2884\\3159560598.py:4: SettingWithCopyWarning: \n",
      "A value is trying to be set on a copy of a slice from a DataFrame.\n",
      "Try using .loc[row_indexer,col_indexer] = value instead\n",
      "\n",
      "See the caveats in the documentation: https://pandas.pydata.org/pandas-docs/stable/user_guide/indexing.html#returning-a-view-versus-a-copy\n",
      "  df[col] = le.fit_transform(df[col])\n"
     ]
    }
   ],
   "source": [
    "from sklearn.preprocessing import LabelEncoder\n",
    "le = LabelEncoder()\n",
    "for col in col_cat:\n",
    "    df[col] = le.fit_transform(df[col])"
   ]
  },
  {
   "cell_type": "code",
   "execution_count": 255,
   "id": "a8c48fc7",
   "metadata": {
    "execution": {
     "iopub.execute_input": "2023-05-11T14:21:50.375691Z",
     "iopub.status.busy": "2023-05-11T14:21:50.375170Z",
     "iopub.status.idle": "2023-05-11T14:21:50.432680Z",
     "shell.execute_reply": "2023-05-11T14:21:50.431535Z"
    },
    "papermill": {
     "duration": 0.093252,
     "end_time": "2023-05-11T14:21:50.435122",
     "exception": false,
     "start_time": "2023-05-11T14:21:50.341870",
     "status": "completed"
    },
    "tags": []
   },
   "outputs": [
    {
     "data": {
      "text/html": [
       "<div>\n",
       "<style scoped>\n",
       "    .dataframe tbody tr th:only-of-type {\n",
       "        vertical-align: middle;\n",
       "    }\n",
       "\n",
       "    .dataframe tbody tr th {\n",
       "        vertical-align: top;\n",
       "    }\n",
       "\n",
       "    .dataframe thead th {\n",
       "        text-align: right;\n",
       "    }\n",
       "</style>\n",
       "<table border=\"1\" class=\"dataframe\">\n",
       "  <thead>\n",
       "    <tr style=\"text-align: right;\">\n",
       "      <th></th>\n",
       "      <th>year</th>\n",
       "      <th>loan_limit</th>\n",
       "      <th>Gender</th>\n",
       "      <th>approv_in_adv</th>\n",
       "      <th>loan_type</th>\n",
       "      <th>loan_purpose</th>\n",
       "      <th>Credit_Worthiness</th>\n",
       "      <th>open_credit</th>\n",
       "      <th>business_or_commercial</th>\n",
       "      <th>loan_amount</th>\n",
       "      <th>...</th>\n",
       "      <th>credit_type</th>\n",
       "      <th>Credit_Score</th>\n",
       "      <th>co-applicant_credit_type</th>\n",
       "      <th>age</th>\n",
       "      <th>submission_of_application</th>\n",
       "      <th>LTV</th>\n",
       "      <th>Region</th>\n",
       "      <th>Security_Type</th>\n",
       "      <th>Status</th>\n",
       "      <th>dtir1</th>\n",
       "    </tr>\n",
       "    <tr>\n",
       "      <th>ID</th>\n",
       "      <th></th>\n",
       "      <th></th>\n",
       "      <th></th>\n",
       "      <th></th>\n",
       "      <th></th>\n",
       "      <th></th>\n",
       "      <th></th>\n",
       "      <th></th>\n",
       "      <th></th>\n",
       "      <th></th>\n",
       "      <th></th>\n",
       "      <th></th>\n",
       "      <th></th>\n",
       "      <th></th>\n",
       "      <th></th>\n",
       "      <th></th>\n",
       "      <th></th>\n",
       "      <th></th>\n",
       "      <th></th>\n",
       "      <th></th>\n",
       "      <th></th>\n",
       "    </tr>\n",
       "  </thead>\n",
       "  <tbody>\n",
       "    <tr>\n",
       "      <th>24890</th>\n",
       "      <td>2019</td>\n",
       "      <td>0</td>\n",
       "      <td>3</td>\n",
       "      <td>0</td>\n",
       "      <td>0</td>\n",
       "      <td>0</td>\n",
       "      <td>0</td>\n",
       "      <td>0</td>\n",
       "      <td>1</td>\n",
       "      <td>116500</td>\n",
       "      <td>...</td>\n",
       "      <td>3</td>\n",
       "      <td>758</td>\n",
       "      <td>0</td>\n",
       "      <td>0</td>\n",
       "      <td>1</td>\n",
       "      <td>98.728814</td>\n",
       "      <td>3</td>\n",
       "      <td>1</td>\n",
       "      <td>1</td>\n",
       "      <td>45.0</td>\n",
       "    </tr>\n",
       "    <tr>\n",
       "      <th>24891</th>\n",
       "      <td>2019</td>\n",
       "      <td>0</td>\n",
       "      <td>2</td>\n",
       "      <td>0</td>\n",
       "      <td>1</td>\n",
       "      <td>0</td>\n",
       "      <td>0</td>\n",
       "      <td>0</td>\n",
       "      <td>0</td>\n",
       "      <td>206500</td>\n",
       "      <td>...</td>\n",
       "      <td>2</td>\n",
       "      <td>552</td>\n",
       "      <td>1</td>\n",
       "      <td>3</td>\n",
       "      <td>1</td>\n",
       "      <td>75.135870</td>\n",
       "      <td>0</td>\n",
       "      <td>1</td>\n",
       "      <td>1</td>\n",
       "      <td>39.0</td>\n",
       "    </tr>\n",
       "    <tr>\n",
       "      <th>24892</th>\n",
       "      <td>2019</td>\n",
       "      <td>0</td>\n",
       "      <td>2</td>\n",
       "      <td>1</td>\n",
       "      <td>0</td>\n",
       "      <td>0</td>\n",
       "      <td>0</td>\n",
       "      <td>0</td>\n",
       "      <td>1</td>\n",
       "      <td>406500</td>\n",
       "      <td>...</td>\n",
       "      <td>3</td>\n",
       "      <td>834</td>\n",
       "      <td>0</td>\n",
       "      <td>1</td>\n",
       "      <td>1</td>\n",
       "      <td>80.019685</td>\n",
       "      <td>3</td>\n",
       "      <td>1</td>\n",
       "      <td>0</td>\n",
       "      <td>46.0</td>\n",
       "    </tr>\n",
       "    <tr>\n",
       "      <th>24893</th>\n",
       "      <td>2019</td>\n",
       "      <td>0</td>\n",
       "      <td>2</td>\n",
       "      <td>0</td>\n",
       "      <td>0</td>\n",
       "      <td>3</td>\n",
       "      <td>0</td>\n",
       "      <td>0</td>\n",
       "      <td>1</td>\n",
       "      <td>456500</td>\n",
       "      <td>...</td>\n",
       "      <td>3</td>\n",
       "      <td>587</td>\n",
       "      <td>0</td>\n",
       "      <td>2</td>\n",
       "      <td>0</td>\n",
       "      <td>69.376900</td>\n",
       "      <td>0</td>\n",
       "      <td>1</td>\n",
       "      <td>0</td>\n",
       "      <td>42.0</td>\n",
       "    </tr>\n",
       "    <tr>\n",
       "      <th>24894</th>\n",
       "      <td>2019</td>\n",
       "      <td>0</td>\n",
       "      <td>1</td>\n",
       "      <td>1</td>\n",
       "      <td>0</td>\n",
       "      <td>0</td>\n",
       "      <td>0</td>\n",
       "      <td>0</td>\n",
       "      <td>1</td>\n",
       "      <td>696500</td>\n",
       "      <td>...</td>\n",
       "      <td>1</td>\n",
       "      <td>602</td>\n",
       "      <td>1</td>\n",
       "      <td>0</td>\n",
       "      <td>0</td>\n",
       "      <td>91.886544</td>\n",
       "      <td>0</td>\n",
       "      <td>1</td>\n",
       "      <td>0</td>\n",
       "      <td>39.0</td>\n",
       "    </tr>\n",
       "    <tr>\n",
       "      <th>...</th>\n",
       "      <td>...</td>\n",
       "      <td>...</td>\n",
       "      <td>...</td>\n",
       "      <td>...</td>\n",
       "      <td>...</td>\n",
       "      <td>...</td>\n",
       "      <td>...</td>\n",
       "      <td>...</td>\n",
       "      <td>...</td>\n",
       "      <td>...</td>\n",
       "      <td>...</td>\n",
       "      <td>...</td>\n",
       "      <td>...</td>\n",
       "      <td>...</td>\n",
       "      <td>...</td>\n",
       "      <td>...</td>\n",
       "      <td>...</td>\n",
       "      <td>...</td>\n",
       "      <td>...</td>\n",
       "      <td>...</td>\n",
       "      <td>...</td>\n",
       "    </tr>\n",
       "    <tr>\n",
       "      <th>173555</th>\n",
       "      <td>2019</td>\n",
       "      <td>0</td>\n",
       "      <td>3</td>\n",
       "      <td>0</td>\n",
       "      <td>0</td>\n",
       "      <td>2</td>\n",
       "      <td>0</td>\n",
       "      <td>0</td>\n",
       "      <td>1</td>\n",
       "      <td>436500</td>\n",
       "      <td>...</td>\n",
       "      <td>0</td>\n",
       "      <td>659</td>\n",
       "      <td>1</td>\n",
       "      <td>3</td>\n",
       "      <td>1</td>\n",
       "      <td>71.792763</td>\n",
       "      <td>3</td>\n",
       "      <td>1</td>\n",
       "      <td>0</td>\n",
       "      <td>48.0</td>\n",
       "    </tr>\n",
       "    <tr>\n",
       "      <th>173556</th>\n",
       "      <td>2019</td>\n",
       "      <td>0</td>\n",
       "      <td>2</td>\n",
       "      <td>0</td>\n",
       "      <td>0</td>\n",
       "      <td>0</td>\n",
       "      <td>0</td>\n",
       "      <td>0</td>\n",
       "      <td>1</td>\n",
       "      <td>586500</td>\n",
       "      <td>...</td>\n",
       "      <td>0</td>\n",
       "      <td>569</td>\n",
       "      <td>0</td>\n",
       "      <td>0</td>\n",
       "      <td>0</td>\n",
       "      <td>74.428934</td>\n",
       "      <td>3</td>\n",
       "      <td>1</td>\n",
       "      <td>0</td>\n",
       "      <td>15.0</td>\n",
       "    </tr>\n",
       "    <tr>\n",
       "      <th>173557</th>\n",
       "      <td>2019</td>\n",
       "      <td>0</td>\n",
       "      <td>2</td>\n",
       "      <td>0</td>\n",
       "      <td>0</td>\n",
       "      <td>3</td>\n",
       "      <td>0</td>\n",
       "      <td>0</td>\n",
       "      <td>1</td>\n",
       "      <td>446500</td>\n",
       "      <td>...</td>\n",
       "      <td>0</td>\n",
       "      <td>702</td>\n",
       "      <td>1</td>\n",
       "      <td>2</td>\n",
       "      <td>0</td>\n",
       "      <td>61.332418</td>\n",
       "      <td>0</td>\n",
       "      <td>1</td>\n",
       "      <td>0</td>\n",
       "      <td>49.0</td>\n",
       "    </tr>\n",
       "    <tr>\n",
       "      <th>173558</th>\n",
       "      <td>2019</td>\n",
       "      <td>0</td>\n",
       "      <td>0</td>\n",
       "      <td>0</td>\n",
       "      <td>0</td>\n",
       "      <td>3</td>\n",
       "      <td>0</td>\n",
       "      <td>0</td>\n",
       "      <td>1</td>\n",
       "      <td>196500</td>\n",
       "      <td>...</td>\n",
       "      <td>3</td>\n",
       "      <td>737</td>\n",
       "      <td>1</td>\n",
       "      <td>3</td>\n",
       "      <td>1</td>\n",
       "      <td>70.683453</td>\n",
       "      <td>0</td>\n",
       "      <td>1</td>\n",
       "      <td>0</td>\n",
       "      <td>29.0</td>\n",
       "    </tr>\n",
       "    <tr>\n",
       "      <th>173559</th>\n",
       "      <td>2019</td>\n",
       "      <td>0</td>\n",
       "      <td>0</td>\n",
       "      <td>0</td>\n",
       "      <td>0</td>\n",
       "      <td>2</td>\n",
       "      <td>0</td>\n",
       "      <td>0</td>\n",
       "      <td>1</td>\n",
       "      <td>406500</td>\n",
       "      <td>...</td>\n",
       "      <td>0</td>\n",
       "      <td>830</td>\n",
       "      <td>0</td>\n",
       "      <td>2</td>\n",
       "      <td>0</td>\n",
       "      <td>72.849462</td>\n",
       "      <td>0</td>\n",
       "      <td>1</td>\n",
       "      <td>0</td>\n",
       "      <td>44.0</td>\n",
       "    </tr>\n",
       "  </tbody>\n",
       "</table>\n",
       "<p>143942 rows × 33 columns</p>\n",
       "</div>"
      ],
      "text/plain": [
       "        year  loan_limit  Gender  approv_in_adv  loan_type  loan_purpose  \\\n",
       "ID                                                                         \n",
       "24890   2019           0       3              0          0             0   \n",
       "24891   2019           0       2              0          1             0   \n",
       "24892   2019           0       2              1          0             0   \n",
       "24893   2019           0       2              0          0             3   \n",
       "24894   2019           0       1              1          0             0   \n",
       "...      ...         ...     ...            ...        ...           ...   \n",
       "173555  2019           0       3              0          0             2   \n",
       "173556  2019           0       2              0          0             0   \n",
       "173557  2019           0       2              0          0             3   \n",
       "173558  2019           0       0              0          0             3   \n",
       "173559  2019           0       0              0          0             2   \n",
       "\n",
       "        Credit_Worthiness  open_credit  business_or_commercial  loan_amount  \\\n",
       "ID                                                                            \n",
       "24890                   0            0                       1       116500   \n",
       "24891                   0            0                       0       206500   \n",
       "24892                   0            0                       1       406500   \n",
       "24893                   0            0                       1       456500   \n",
       "24894                   0            0                       1       696500   \n",
       "...                   ...          ...                     ...          ...   \n",
       "173555                  0            0                       1       436500   \n",
       "173556                  0            0                       1       586500   \n",
       "173557                  0            0                       1       446500   \n",
       "173558                  0            0                       1       196500   \n",
       "173559                  0            0                       1       406500   \n",
       "\n",
       "        ...  credit_type  Credit_Score  co-applicant_credit_type  age  \\\n",
       "ID      ...                                                             \n",
       "24890   ...            3           758                         0    0   \n",
       "24891   ...            2           552                         1    3   \n",
       "24892   ...            3           834                         0    1   \n",
       "24893   ...            3           587                         0    2   \n",
       "24894   ...            1           602                         1    0   \n",
       "...     ...          ...           ...                       ...  ...   \n",
       "173555  ...            0           659                         1    3   \n",
       "173556  ...            0           569                         0    0   \n",
       "173557  ...            0           702                         1    2   \n",
       "173558  ...            3           737                         1    3   \n",
       "173559  ...            0           830                         0    2   \n",
       "\n",
       "        submission_of_application        LTV  Region  Security_Type  Status  \\\n",
       "ID                                                                            \n",
       "24890                           1  98.728814       3              1       1   \n",
       "24891                           1  75.135870       0              1       1   \n",
       "24892                           1  80.019685       3              1       0   \n",
       "24893                           0  69.376900       0              1       0   \n",
       "24894                           0  91.886544       0              1       0   \n",
       "...                           ...        ...     ...            ...     ...   \n",
       "173555                          1  71.792763       3              1       0   \n",
       "173556                          0  74.428934       3              1       0   \n",
       "173557                          0  61.332418       0              1       0   \n",
       "173558                          1  70.683453       0              1       0   \n",
       "173559                          0  72.849462       0              1       0   \n",
       "\n",
       "        dtir1  \n",
       "ID             \n",
       "24890    45.0  \n",
       "24891    39.0  \n",
       "24892    46.0  \n",
       "24893    42.0  \n",
       "24894    39.0  \n",
       "...       ...  \n",
       "173555   48.0  \n",
       "173556   15.0  \n",
       "173557   49.0  \n",
       "173558   29.0  \n",
       "173559   44.0  \n",
       "\n",
       "[143942 rows x 33 columns]"
      ]
     },
     "execution_count": 255,
     "metadata": {},
     "output_type": "execute_result"
    }
   ],
   "source": [
    "df"
   ]
  },
  {
   "cell_type": "code",
   "execution_count": 256,
   "id": "bb8e608a",
   "metadata": {
    "execution": {
     "iopub.execute_input": "2023-05-11T14:21:50.501377Z",
     "iopub.status.busy": "2023-05-11T14:21:50.500843Z",
     "iopub.status.idle": "2023-05-11T14:21:50.508698Z",
     "shell.execute_reply": "2023-05-11T14:21:50.507551Z"
    },
    "papermill": {
     "duration": 0.044027,
     "end_time": "2023-05-11T14:21:50.511152",
     "exception": false,
     "start_time": "2023-05-11T14:21:50.467125",
     "status": "completed"
    },
    "tags": []
   },
   "outputs": [
    {
     "data": {
      "text/plain": [
       "Index(['year', 'loan_limit', 'Gender', 'approv_in_adv', 'loan_type',\n",
       "       'loan_purpose', 'Credit_Worthiness', 'open_credit',\n",
       "       'business_or_commercial', 'loan_amount', 'rate_of_interest',\n",
       "       'Interest_rate_spread', 'Upfront_charges', 'term', 'Neg_ammortization',\n",
       "       'interest_only', 'lump_sum_payment', 'property_value',\n",
       "       'construction_type', 'occupancy_type', 'Secured_by', 'total_units',\n",
       "       'income', 'credit_type', 'Credit_Score', 'co-applicant_credit_type',\n",
       "       'age', 'submission_of_application', 'LTV', 'Region', 'Security_Type',\n",
       "       'Status', 'dtir1'],\n",
       "      dtype='object')"
      ]
     },
     "execution_count": 256,
     "metadata": {},
     "output_type": "execute_result"
    }
   ],
   "source": [
    "df.columns"
   ]
  },
  {
   "cell_type": "code",
   "execution_count": 257,
   "id": "60001182",
   "metadata": {
    "execution": {
     "iopub.execute_input": "2023-05-11T14:21:50.578433Z",
     "iopub.status.busy": "2023-05-11T14:21:50.577550Z",
     "iopub.status.idle": "2023-05-11T14:21:50.588444Z",
     "shell.execute_reply": "2023-05-11T14:21:50.587312Z"
    },
    "papermill": {
     "duration": 0.047691,
     "end_time": "2023-05-11T14:21:50.591069",
     "exception": false,
     "start_time": "2023-05-11T14:21:50.543378",
     "status": "completed"
    },
    "tags": []
   },
   "outputs": [
    {
     "data": {
      "text/plain": [
       "0    108687\n",
       "1     35255\n",
       "Name: Status, dtype: int64"
      ]
     },
     "execution_count": 257,
     "metadata": {},
     "output_type": "execute_result"
    }
   ],
   "source": [
    "df['Status'].value_counts()"
   ]
  },
  {
   "cell_type": "code",
   "execution_count": 258,
   "id": "847bfb41",
   "metadata": {},
   "outputs": [
    {
     "data": {
      "image/png": "[encoded data removed]",
      "text/plain": [
       "<Figure size 640x480 with 1 Axes>"
      ]
     },
     "metadata": {},
     "output_type": "display_data"
    }
   ],
   "source": [
    "sns.countplot(data=df, x =df['Status'])\n",
    "plt.show()"
   ]
  },
  {
   "attachments": {},
   "cell_type": "markdown",
   "id": "724b99e4",
   "metadata": {
    "papermill": {
     "duration": 0.03188,
     "end_time": "2023-05-11T14:21:50.654972",
     "exception": false,
     "start_time": "2023-05-11T14:21:50.623092",
     "status": "completed"
    },
    "tags": []
   },
   "source": [
    "There is imbalance in feature 'Status' to balance that i used unsampling "
   ]
  },
  {
   "cell_type": "code",
   "execution_count": 259,
   "id": "12a88340",
   "metadata": {
    "execution": {
     "iopub.execute_input": "2023-05-11T14:21:50.721393Z",
     "iopub.status.busy": "2023-05-11T14:21:50.720959Z",
     "iopub.status.idle": "2023-05-11T14:21:50.783142Z",
     "shell.execute_reply": "2023-05-11T14:21:50.781795Z"
    },
    "papermill": {
     "duration": 0.099409,
     "end_time": "2023-05-11T14:21:50.786339",
     "exception": false,
     "start_time": "2023-05-11T14:21:50.686930",
     "status": "completed"
    },
    "tags": []
   },
   "outputs": [],
   "source": [
    "from sklearn.utils import resample\n",
    "\n",
    "\n",
    "# Separate the majority and minority classes\n",
    "df_majority = df[df['Status'] == 0]\n",
    "df_minority = df[df['Status'] == 1]"
   ]
  },
  {
   "cell_type": "code",
   "execution_count": 260,
   "id": "c08c20c8",
   "metadata": {
    "execution": {
     "iopub.execute_input": "2023-05-11T14:21:50.853546Z",
     "iopub.status.busy": "2023-05-11T14:21:50.852653Z",
     "iopub.status.idle": "2023-05-11T14:21:50.860849Z",
     "shell.execute_reply": "2023-05-11T14:21:50.859655Z"
    },
    "papermill": {
     "duration": 0.044924,
     "end_time": "2023-05-11T14:21:50.863462",
     "exception": false,
     "start_time": "2023-05-11T14:21:50.818538",
     "status": "completed"
    },
    "tags": []
   },
   "outputs": [
    {
     "data": {
      "text/plain": [
       "((108687, 33), (35255, 33))"
      ]
     },
     "execution_count": 260,
     "metadata": {},
     "output_type": "execute_result"
    }
   ],
   "source": [
    "df_majority.shape,df_minority.shape"
   ]
  },
  {
   "cell_type": "code",
   "execution_count": null,
   "id": "4e18423b",
   "metadata": {},
   "outputs": [],
   "source": []
  },
  {
   "cell_type": "code",
   "execution_count": 261,
   "id": "131a576d",
   "metadata": {
    "execution": {
     "iopub.execute_input": "2023-05-11T14:21:50.932601Z",
     "iopub.status.busy": "2023-05-11T14:21:50.932117Z",
     "iopub.status.idle": "2023-05-11T14:21:50.948397Z",
     "shell.execute_reply": "2023-05-11T14:21:50.947308Z"
    },
    "papermill": {
     "duration": 0.053802,
     "end_time": "2023-05-11T14:21:50.951132",
     "exception": false,
     "start_time": "2023-05-11T14:21:50.897330",
     "status": "completed"
    },
    "tags": []
   },
   "outputs": [],
   "source": [
    "df_minority_upsampled = resample(df_minority, \n",
    "                                 replace=True,     # sample with replacement\n",
    "                                 n_samples=108687,    # to match majority class\n",
    "                                 random_state=123) "
   ]
  },
  {
   "cell_type": "code",
   "execution_count": 262,
   "id": "a900ba9b",
   "metadata": {
    "execution": {
     "iopub.execute_input": "2023-05-11T14:21:51.018699Z",
     "iopub.status.busy": "2023-05-11T14:21:51.018194Z",
     "iopub.status.idle": "2023-05-11T14:21:51.107083Z",
     "shell.execute_reply": "2023-05-11T14:21:51.105591Z"
    },
    "papermill": {
     "duration": 0.126689,
     "end_time": "2023-05-11T14:21:51.110377",
     "exception": false,
     "start_time": "2023-05-11T14:21:50.983688",
     "status": "completed"
    },
    "tags": []
   },
   "outputs": [],
   "source": [
    "df_upsampled = pd.concat([df_majority, df_minority_upsampled])"
   ]
  },
  {
   "cell_type": "code",
   "execution_count": 263,
   "id": "db435dff",
   "metadata": {},
   "outputs": [
    {
     "data": {
      "image/png": "[encoded data removed]",
      "text/plain": [
       "<Figure size 640x480 with 1 Axes>"
      ]
     },
     "metadata": {},
     "output_type": "display_data"
    }
   ],
   "source": [
    "sns.countplot(data=df_upsampled, x =df_upsampled['Status'])\n",
    "plt.show()"
   ]
  },
  {
   "cell_type": "code",
   "execution_count": 264,
   "id": "3b8542da",
   "metadata": {
    "execution": {
     "iopub.execute_input": "2023-05-11T14:21:51.196747Z",
     "iopub.status.busy": "2023-05-11T14:21:51.195853Z",
     "iopub.status.idle": "2023-05-11T14:21:51.341190Z",
     "shell.execute_reply": "2023-05-11T14:21:51.340024Z"
    },
    "papermill": {
     "duration": 0.186398,
     "end_time": "2023-05-11T14:21:51.344542",
     "exception": false,
     "start_time": "2023-05-11T14:21:51.158144",
     "status": "completed"
    },
    "tags": []
   },
   "outputs": [
    {
     "data": {
      "text/html": [
       "<div>\n",
       "<style scoped>\n",
       "    .dataframe tbody tr th:only-of-type {\n",
       "        vertical-align: middle;\n",
       "    }\n",
       "\n",
       "    .dataframe tbody tr th {\n",
       "        vertical-align: top;\n",
       "    }\n",
       "\n",
       "    .dataframe thead th {\n",
       "        text-align: right;\n",
       "    }\n",
       "</style>\n",
       "<table border=\"1\" class=\"dataframe\">\n",
       "  <thead>\n",
       "    <tr style=\"text-align: right;\">\n",
       "      <th></th>\n",
       "      <th>year</th>\n",
       "      <th>loan_limit</th>\n",
       "      <th>Gender</th>\n",
       "      <th>approv_in_adv</th>\n",
       "      <th>loan_type</th>\n",
       "      <th>loan_purpose</th>\n",
       "      <th>Credit_Worthiness</th>\n",
       "      <th>open_credit</th>\n",
       "      <th>business_or_commercial</th>\n",
       "      <th>loan_amount</th>\n",
       "      <th>...</th>\n",
       "      <th>credit_type</th>\n",
       "      <th>Credit_Score</th>\n",
       "      <th>co-applicant_credit_type</th>\n",
       "      <th>age</th>\n",
       "      <th>submission_of_application</th>\n",
       "      <th>LTV</th>\n",
       "      <th>Region</th>\n",
       "      <th>Security_Type</th>\n",
       "      <th>Status</th>\n",
       "      <th>dtir1</th>\n",
       "    </tr>\n",
       "    <tr>\n",
       "      <th>ID</th>\n",
       "      <th></th>\n",
       "      <th></th>\n",
       "      <th></th>\n",
       "      <th></th>\n",
       "      <th></th>\n",
       "      <th></th>\n",
       "      <th></th>\n",
       "      <th></th>\n",
       "      <th></th>\n",
       "      <th></th>\n",
       "      <th></th>\n",
       "      <th></th>\n",
       "      <th></th>\n",
       "      <th></th>\n",
       "      <th></th>\n",
       "      <th></th>\n",
       "      <th></th>\n",
       "      <th></th>\n",
       "      <th></th>\n",
       "      <th></th>\n",
       "      <th></th>\n",
       "    </tr>\n",
       "  </thead>\n",
       "  <tbody>\n",
       "    <tr>\n",
       "      <th>24892</th>\n",
       "      <td>2019</td>\n",
       "      <td>0</td>\n",
       "      <td>2</td>\n",
       "      <td>1</td>\n",
       "      <td>0</td>\n",
       "      <td>0</td>\n",
       "      <td>0</td>\n",
       "      <td>0</td>\n",
       "      <td>1</td>\n",
       "      <td>406500</td>\n",
       "      <td>...</td>\n",
       "      <td>3</td>\n",
       "      <td>834</td>\n",
       "      <td>0</td>\n",
       "      <td>1</td>\n",
       "      <td>1</td>\n",
       "      <td>80.019685</td>\n",
       "      <td>3</td>\n",
       "      <td>1</td>\n",
       "      <td>0</td>\n",
       "      <td>46.0</td>\n",
       "    </tr>\n",
       "    <tr>\n",
       "      <th>24893</th>\n",
       "      <td>2019</td>\n",
       "      <td>0</td>\n",
       "      <td>2</td>\n",
       "      <td>0</td>\n",
       "      <td>0</td>\n",
       "      <td>3</td>\n",
       "      <td>0</td>\n",
       "      <td>0</td>\n",
       "      <td>1</td>\n",
       "      <td>456500</td>\n",
       "      <td>...</td>\n",
       "      <td>3</td>\n",
       "      <td>587</td>\n",
       "      <td>0</td>\n",
       "      <td>2</td>\n",
       "      <td>0</td>\n",
       "      <td>69.376900</td>\n",
       "      <td>0</td>\n",
       "      <td>1</td>\n",
       "      <td>0</td>\n",
       "      <td>42.0</td>\n",
       "    </tr>\n",
       "    <tr>\n",
       "      <th>24894</th>\n",
       "      <td>2019</td>\n",
       "      <td>0</td>\n",
       "      <td>1</td>\n",
       "      <td>1</td>\n",
       "      <td>0</td>\n",
       "      <td>0</td>\n",
       "      <td>0</td>\n",
       "      <td>0</td>\n",
       "      <td>1</td>\n",
       "      <td>696500</td>\n",
       "      <td>...</td>\n",
       "      <td>1</td>\n",
       "      <td>602</td>\n",
       "      <td>1</td>\n",
       "      <td>0</td>\n",
       "      <td>0</td>\n",
       "      <td>91.886544</td>\n",
       "      <td>0</td>\n",
       "      <td>1</td>\n",
       "      <td>0</td>\n",
       "      <td>39.0</td>\n",
       "    </tr>\n",
       "    <tr>\n",
       "      <th>24895</th>\n",
       "      <td>2019</td>\n",
       "      <td>0</td>\n",
       "      <td>1</td>\n",
       "      <td>1</td>\n",
       "      <td>0</td>\n",
       "      <td>0</td>\n",
       "      <td>0</td>\n",
       "      <td>0</td>\n",
       "      <td>1</td>\n",
       "      <td>706500</td>\n",
       "      <td>...</td>\n",
       "      <td>3</td>\n",
       "      <td>864</td>\n",
       "      <td>1</td>\n",
       "      <td>1</td>\n",
       "      <td>0</td>\n",
       "      <td>70.089286</td>\n",
       "      <td>0</td>\n",
       "      <td>1</td>\n",
       "      <td>0</td>\n",
       "      <td>40.0</td>\n",
       "    </tr>\n",
       "    <tr>\n",
       "      <th>24896</th>\n",
       "      <td>2019</td>\n",
       "      <td>0</td>\n",
       "      <td>1</td>\n",
       "      <td>1</td>\n",
       "      <td>0</td>\n",
       "      <td>2</td>\n",
       "      <td>0</td>\n",
       "      <td>0</td>\n",
       "      <td>1</td>\n",
       "      <td>346500</td>\n",
       "      <td>...</td>\n",
       "      <td>3</td>\n",
       "      <td>860</td>\n",
       "      <td>1</td>\n",
       "      <td>3</td>\n",
       "      <td>1</td>\n",
       "      <td>79.109589</td>\n",
       "      <td>0</td>\n",
       "      <td>1</td>\n",
       "      <td>0</td>\n",
       "      <td>44.0</td>\n",
       "    </tr>\n",
       "    <tr>\n",
       "      <th>...</th>\n",
       "      <td>...</td>\n",
       "      <td>...</td>\n",
       "      <td>...</td>\n",
       "      <td>...</td>\n",
       "      <td>...</td>\n",
       "      <td>...</td>\n",
       "      <td>...</td>\n",
       "      <td>...</td>\n",
       "      <td>...</td>\n",
       "      <td>...</td>\n",
       "      <td>...</td>\n",
       "      <td>...</td>\n",
       "      <td>...</td>\n",
       "      <td>...</td>\n",
       "      <td>...</td>\n",
       "      <td>...</td>\n",
       "      <td>...</td>\n",
       "      <td>...</td>\n",
       "      <td>...</td>\n",
       "      <td>...</td>\n",
       "      <td>...</td>\n",
       "    </tr>\n",
       "    <tr>\n",
       "      <th>84289</th>\n",
       "      <td>2019</td>\n",
       "      <td>0</td>\n",
       "      <td>1</td>\n",
       "      <td>0</td>\n",
       "      <td>2</td>\n",
       "      <td>3</td>\n",
       "      <td>0</td>\n",
       "      <td>0</td>\n",
       "      <td>1</td>\n",
       "      <td>436500</td>\n",
       "      <td>...</td>\n",
       "      <td>2</td>\n",
       "      <td>564</td>\n",
       "      <td>1</td>\n",
       "      <td>3</td>\n",
       "      <td>1</td>\n",
       "      <td>75.135870</td>\n",
       "      <td>2</td>\n",
       "      <td>1</td>\n",
       "      <td>1</td>\n",
       "      <td>39.0</td>\n",
       "    </tr>\n",
       "    <tr>\n",
       "      <th>116391</th>\n",
       "      <td>2019</td>\n",
       "      <td>0</td>\n",
       "      <td>2</td>\n",
       "      <td>0</td>\n",
       "      <td>2</td>\n",
       "      <td>0</td>\n",
       "      <td>0</td>\n",
       "      <td>0</td>\n",
       "      <td>1</td>\n",
       "      <td>176500</td>\n",
       "      <td>...</td>\n",
       "      <td>0</td>\n",
       "      <td>665</td>\n",
       "      <td>0</td>\n",
       "      <td>0</td>\n",
       "      <td>1</td>\n",
       "      <td>99.157303</td>\n",
       "      <td>3</td>\n",
       "      <td>1</td>\n",
       "      <td>1</td>\n",
       "      <td>59.0</td>\n",
       "    </tr>\n",
       "    <tr>\n",
       "      <th>74623</th>\n",
       "      <td>2019</td>\n",
       "      <td>0</td>\n",
       "      <td>3</td>\n",
       "      <td>1</td>\n",
       "      <td>0</td>\n",
       "      <td>2</td>\n",
       "      <td>0</td>\n",
       "      <td>0</td>\n",
       "      <td>1</td>\n",
       "      <td>326500</td>\n",
       "      <td>...</td>\n",
       "      <td>2</td>\n",
       "      <td>617</td>\n",
       "      <td>1</td>\n",
       "      <td>0</td>\n",
       "      <td>1</td>\n",
       "      <td>75.135870</td>\n",
       "      <td>3</td>\n",
       "      <td>1</td>\n",
       "      <td>1</td>\n",
       "      <td>39.0</td>\n",
       "    </tr>\n",
       "    <tr>\n",
       "      <th>117458</th>\n",
       "      <td>2019</td>\n",
       "      <td>0</td>\n",
       "      <td>2</td>\n",
       "      <td>1</td>\n",
       "      <td>0</td>\n",
       "      <td>3</td>\n",
       "      <td>0</td>\n",
       "      <td>0</td>\n",
       "      <td>1</td>\n",
       "      <td>246500</td>\n",
       "      <td>...</td>\n",
       "      <td>0</td>\n",
       "      <td>525</td>\n",
       "      <td>0</td>\n",
       "      <td>1</td>\n",
       "      <td>1</td>\n",
       "      <td>80.032468</td>\n",
       "      <td>3</td>\n",
       "      <td>1</td>\n",
       "      <td>1</td>\n",
       "      <td>21.0</td>\n",
       "    </tr>\n",
       "    <tr>\n",
       "      <th>43651</th>\n",
       "      <td>2019</td>\n",
       "      <td>0</td>\n",
       "      <td>3</td>\n",
       "      <td>0</td>\n",
       "      <td>0</td>\n",
       "      <td>2</td>\n",
       "      <td>0</td>\n",
       "      <td>0</td>\n",
       "      <td>1</td>\n",
       "      <td>396500</td>\n",
       "      <td>...</td>\n",
       "      <td>3</td>\n",
       "      <td>893</td>\n",
       "      <td>0</td>\n",
       "      <td>1</td>\n",
       "      <td>0</td>\n",
       "      <td>60.258359</td>\n",
       "      <td>3</td>\n",
       "      <td>1</td>\n",
       "      <td>1</td>\n",
       "      <td>50.0</td>\n",
       "    </tr>\n",
       "  </tbody>\n",
       "</table>\n",
       "<p>217374 rows × 33 columns</p>\n",
       "</div>"
      ],
      "text/plain": [
       "        year  loan_limit  Gender  approv_in_adv  loan_type  loan_purpose  \\\n",
       "ID                                                                         \n",
       "24892   2019           0       2              1          0             0   \n",
       "24893   2019           0       2              0          0             3   \n",
       "24894   2019           0       1              1          0             0   \n",
       "24895   2019           0       1              1          0             0   \n",
       "24896   2019           0       1              1          0             2   \n",
       "...      ...         ...     ...            ...        ...           ...   \n",
       "84289   2019           0       1              0          2             3   \n",
       "116391  2019           0       2              0          2             0   \n",
       "74623   2019           0       3              1          0             2   \n",
       "117458  2019           0       2              1          0             3   \n",
       "43651   2019           0       3              0          0             2   \n",
       "\n",
       "        Credit_Worthiness  open_credit  business_or_commercial  loan_amount  \\\n",
       "ID                                                                            \n",
       "24892                   0            0                       1       406500   \n",
       "24893                   0            0                       1       456500   \n",
       "24894                   0            0                       1       696500   \n",
       "24895                   0            0                       1       706500   \n",
       "24896                   0            0                       1       346500   \n",
       "...                   ...          ...                     ...          ...   \n",
       "84289                   0            0                       1       436500   \n",
       "116391                  0            0                       1       176500   \n",
       "74623                   0            0                       1       326500   \n",
       "117458                  0            0                       1       246500   \n",
       "43651                   0            0                       1       396500   \n",
       "\n",
       "        ...  credit_type  Credit_Score  co-applicant_credit_type  age  \\\n",
       "ID      ...                                                             \n",
       "24892   ...            3           834                         0    1   \n",
       "24893   ...            3           587                         0    2   \n",
       "24894   ...            1           602                         1    0   \n",
       "24895   ...            3           864                         1    1   \n",
       "24896   ...            3           860                         1    3   \n",
       "...     ...          ...           ...                       ...  ...   \n",
       "84289   ...            2           564                         1    3   \n",
       "116391  ...            0           665                         0    0   \n",
       "74623   ...            2           617                         1    0   \n",
       "117458  ...            0           525                         0    1   \n",
       "43651   ...            3           893                         0    1   \n",
       "\n",
       "        submission_of_application        LTV  Region  Security_Type  Status  \\\n",
       "ID                                                                            \n",
       "24892                           1  80.019685       3              1       0   \n",
       "24893                           0  69.376900       0              1       0   \n",
       "24894                           0  91.886544       0              1       0   \n",
       "24895                           0  70.089286       0              1       0   \n",
       "24896                           1  79.109589       0              1       0   \n",
       "...                           ...        ...     ...            ...     ...   \n",
       "84289                           1  75.135870       2              1       1   \n",
       "116391                          1  99.157303       3              1       1   \n",
       "74623                           1  75.135870       3              1       1   \n",
       "117458                          1  80.032468       3              1       1   \n",
       "43651                           0  60.258359       3              1       1   \n",
       "\n",
       "        dtir1  \n",
       "ID             \n",
       "24892    46.0  \n",
       "24893    42.0  \n",
       "24894    39.0  \n",
       "24895    40.0  \n",
       "24896    44.0  \n",
       "...       ...  \n",
       "84289    39.0  \n",
       "116391   59.0  \n",
       "74623    39.0  \n",
       "117458   21.0  \n",
       "43651    50.0  \n",
       "\n",
       "[217374 rows x 33 columns]"
      ]
     },
     "execution_count": 264,
     "metadata": {},
     "output_type": "execute_result"
    }
   ],
   "source": [
    "df_upsampled"
   ]
  },
  {
   "cell_type": "code",
   "execution_count": 265,
   "id": "b4c79079",
   "metadata": {
    "execution": {
     "iopub.execute_input": "2023-05-11T14:21:51.414006Z",
     "iopub.status.busy": "2023-05-11T14:21:51.413549Z",
     "iopub.status.idle": "2023-05-11T14:21:51.424922Z",
     "shell.execute_reply": "2023-05-11T14:21:51.423791Z"
    },
    "papermill": {
     "duration": 0.049372,
     "end_time": "2023-05-11T14:21:51.427324",
     "exception": false,
     "start_time": "2023-05-11T14:21:51.377952",
     "status": "completed"
    },
    "tags": []
   },
   "outputs": [
    {
     "data": {
      "text/plain": [
       "0    108687\n",
       "1    108687\n",
       "Name: Status, dtype: int64"
      ]
     },
     "execution_count": 265,
     "metadata": {},
     "output_type": "execute_result"
    }
   ],
   "source": [
    "df_upsampled['Status'].value_counts()"
   ]
  },
  {
   "cell_type": "code",
   "execution_count": 266,
   "id": "58963c05",
   "metadata": {
    "execution": {
     "iopub.execute_input": "2023-05-11T14:21:51.499224Z",
     "iopub.status.busy": "2023-05-11T14:21:51.498726Z",
     "iopub.status.idle": "2023-05-11T14:21:51.536602Z",
     "shell.execute_reply": "2023-05-11T14:21:51.535027Z"
    },
    "papermill": {
     "duration": 0.077124,
     "end_time": "2023-05-11T14:21:51.539643",
     "exception": false,
     "start_time": "2023-05-11T14:21:51.462519",
     "status": "completed"
    },
    "tags": []
   },
   "outputs": [],
   "source": [
    "x = df_upsampled.drop(['Status'],axis=1)\n",
    "y = df_upsampled['Status']"
   ]
  },
  {
   "cell_type": "code",
   "execution_count": 267,
   "id": "9cbb8e93",
   "metadata": {
    "execution": {
     "iopub.execute_input": "2023-05-11T14:21:51.609859Z",
     "iopub.status.busy": "2023-05-11T14:21:51.608744Z",
     "iopub.status.idle": "2023-05-11T14:21:51.619703Z",
     "shell.execute_reply": "2023-05-11T14:21:51.618869Z"
    },
    "papermill": {
     "duration": 0.04834,
     "end_time": "2023-05-11T14:21:51.622010",
     "exception": false,
     "start_time": "2023-05-11T14:21:51.573670",
     "status": "completed"
    },
    "tags": []
   },
   "outputs": [
    {
     "data": {
      "text/plain": [
       "0    108687\n",
       "1    108687\n",
       "Name: Status, dtype: int64"
      ]
     },
     "execution_count": 267,
     "metadata": {},
     "output_type": "execute_result"
    }
   ],
   "source": [
    "df_upsampled['Status'].value_counts()"
   ]
  },
  {
   "cell_type": "code",
   "execution_count": 268,
   "id": "0ce4da7b",
   "metadata": {},
   "outputs": [],
   "source": [
    "from sklearn.preprocessing import MinMaxScaler\n",
    "\n",
    "# Create an instance of the scaler\n",
    "scaler = MinMaxScaler()\n",
    "\n",
    "# Fit the scaler to the data and transform it\n",
    "X_scaled = scaler.fit_transform(x)\n"
   ]
  },
  {
   "cell_type": "code",
   "execution_count": 269,
   "id": "9acefc51",
   "metadata": {},
   "outputs": [
    {
     "data": {
      "text/plain": [
       "(217374, 15)"
      ]
     },
     "execution_count": 269,
     "metadata": {},
     "output_type": "execute_result"
    }
   ],
   "source": [
    "from sklearn.decomposition import PCA\n",
    "\n",
    "pca = PCA(n_components=15)\n",
    "X_pca = pca.fit_transform(x)\n",
    "X_pca.shape"
   ]
  },
  {
   "cell_type": "code",
   "execution_count": 270,
   "id": "3f50f093",
   "metadata": {
    "execution": {
     "iopub.execute_input": "2023-05-11T14:21:54.349108Z",
     "iopub.status.busy": "2023-05-11T14:21:54.348320Z",
     "iopub.status.idle": "2023-05-11T14:21:54.562346Z",
     "shell.execute_reply": "2023-05-11T14:21:54.561195Z"
    },
    "papermill": {
     "duration": 0.252854,
     "end_time": "2023-05-11T14:21:54.565235",
     "exception": false,
     "start_time": "2023-05-11T14:21:54.312381",
     "status": "completed"
    },
    "tags": []
   },
   "outputs": [
    {
     "data": {
      "text/html": [
       "<div>\n",
       "<style scoped>\n",
       "    .dataframe tbody tr th:only-of-type {\n",
       "        vertical-align: middle;\n",
       "    }\n",
       "\n",
       "    .dataframe tbody tr th {\n",
       "        vertical-align: top;\n",
       "    }\n",
       "\n",
       "    .dataframe thead th {\n",
       "        text-align: right;\n",
       "    }\n",
       "</style>\n",
       "<table border=\"1\" class=\"dataframe\">\n",
       "  <thead>\n",
       "    <tr style=\"text-align: right;\">\n",
       "      <th></th>\n",
       "      <th>year</th>\n",
       "      <th>loan_limit</th>\n",
       "      <th>Gender</th>\n",
       "      <th>approv_in_adv</th>\n",
       "      <th>loan_type</th>\n",
       "      <th>loan_purpose</th>\n",
       "      <th>Credit_Worthiness</th>\n",
       "      <th>open_credit</th>\n",
       "      <th>business_or_commercial</th>\n",
       "      <th>loan_amount</th>\n",
       "      <th>...</th>\n",
       "      <th>credit_type</th>\n",
       "      <th>Credit_Score</th>\n",
       "      <th>co-applicant_credit_type</th>\n",
       "      <th>age</th>\n",
       "      <th>submission_of_application</th>\n",
       "      <th>LTV</th>\n",
       "      <th>Region</th>\n",
       "      <th>Security_Type</th>\n",
       "      <th>Status</th>\n",
       "      <th>dtir1</th>\n",
       "    </tr>\n",
       "  </thead>\n",
       "  <tbody>\n",
       "    <tr>\n",
       "      <th>count</th>\n",
       "      <td>143942.0</td>\n",
       "      <td>143942.000000</td>\n",
       "      <td>143942.000000</td>\n",
       "      <td>143942.000000</td>\n",
       "      <td>143942.000000</td>\n",
       "      <td>143942.000000</td>\n",
       "      <td>143942.000000</td>\n",
       "      <td>143942.000000</td>\n",
       "      <td>143942.000000</td>\n",
       "      <td>1.439420e+05</td>\n",
       "      <td>...</td>\n",
       "      <td>143942.000000</td>\n",
       "      <td>143942.000000</td>\n",
       "      <td>143942.000000</td>\n",
       "      <td>143942.000000</td>\n",
       "      <td>143942.000000</td>\n",
       "      <td>143942.000000</td>\n",
       "      <td>143942.000000</td>\n",
       "      <td>143942.000000</td>\n",
       "      <td>143942.000000</td>\n",
       "      <td>143942.000000</td>\n",
       "    </tr>\n",
       "    <tr>\n",
       "      <th>mean</th>\n",
       "      <td>2019.0</td>\n",
       "      <td>0.067798</td>\n",
       "      <td>1.606640</td>\n",
       "      <td>0.159384</td>\n",
       "      <td>0.338074</td>\n",
       "      <td>1.889039</td>\n",
       "      <td>0.043844</td>\n",
       "      <td>0.003745</td>\n",
       "      <td>0.861646</td>\n",
       "      <td>3.318169e+05</td>\n",
       "      <td>...</td>\n",
       "      <td>1.333495</td>\n",
       "      <td>699.697649</td>\n",
       "      <td>0.499528</td>\n",
       "      <td>2.242084</td>\n",
       "      <td>0.645218</td>\n",
       "      <td>72.941953</td>\n",
       "      <td>1.415709</td>\n",
       "      <td>0.999771</td>\n",
       "      <td>0.244925</td>\n",
       "      <td>37.927957</td>\n",
       "    </tr>\n",
       "    <tr>\n",
       "      <th>std</th>\n",
       "      <td>0.0</td>\n",
       "      <td>0.251400</td>\n",
       "      <td>1.053928</td>\n",
       "      <td>0.366035</td>\n",
       "      <td>0.650770</td>\n",
       "      <td>1.141760</td>\n",
       "      <td>0.204749</td>\n",
       "      <td>0.061078</td>\n",
       "      <td>0.345273</td>\n",
       "      <td>1.842259e+05</td>\n",
       "      <td>...</td>\n",
       "      <td>1.195074</td>\n",
       "      <td>115.891766</td>\n",
       "      <td>0.500002</td>\n",
       "      <td>1.520756</td>\n",
       "      <td>0.478449</td>\n",
       "      <td>38.370416</td>\n",
       "      <td>1.452372</td>\n",
       "      <td>0.015140</td>\n",
       "      <td>0.430044</td>\n",
       "      <td>9.667492</td>\n",
       "    </tr>\n",
       "    <tr>\n",
       "      <th>min</th>\n",
       "      <td>2019.0</td>\n",
       "      <td>0.000000</td>\n",
       "      <td>0.000000</td>\n",
       "      <td>0.000000</td>\n",
       "      <td>0.000000</td>\n",
       "      <td>0.000000</td>\n",
       "      <td>0.000000</td>\n",
       "      <td>0.000000</td>\n",
       "      <td>0.000000</td>\n",
       "      <td>1.650000e+04</td>\n",
       "      <td>...</td>\n",
       "      <td>0.000000</td>\n",
       "      <td>500.000000</td>\n",
       "      <td>0.000000</td>\n",
       "      <td>0.000000</td>\n",
       "      <td>0.000000</td>\n",
       "      <td>0.967478</td>\n",
       "      <td>0.000000</td>\n",
       "      <td>0.000000</td>\n",
       "      <td>0.000000</td>\n",
       "      <td>5.000000</td>\n",
       "    </tr>\n",
       "    <tr>\n",
       "      <th>25%</th>\n",
       "      <td>2019.0</td>\n",
       "      <td>0.000000</td>\n",
       "      <td>1.000000</td>\n",
       "      <td>0.000000</td>\n",
       "      <td>0.000000</td>\n",
       "      <td>1.000000</td>\n",
       "      <td>0.000000</td>\n",
       "      <td>0.000000</td>\n",
       "      <td>1.000000</td>\n",
       "      <td>1.965000e+05</td>\n",
       "      <td>...</td>\n",
       "      <td>0.000000</td>\n",
       "      <td>599.000000</td>\n",
       "      <td>0.000000</td>\n",
       "      <td>1.000000</td>\n",
       "      <td>0.000000</td>\n",
       "      <td>63.144841</td>\n",
       "      <td>0.000000</td>\n",
       "      <td>1.000000</td>\n",
       "      <td>0.000000</td>\n",
       "      <td>33.000000</td>\n",
       "    </tr>\n",
       "    <tr>\n",
       "      <th>50%</th>\n",
       "      <td>2019.0</td>\n",
       "      <td>0.000000</td>\n",
       "      <td>2.000000</td>\n",
       "      <td>0.000000</td>\n",
       "      <td>0.000000</td>\n",
       "      <td>2.000000</td>\n",
       "      <td>0.000000</td>\n",
       "      <td>0.000000</td>\n",
       "      <td>1.000000</td>\n",
       "      <td>2.965000e+05</td>\n",
       "      <td>...</td>\n",
       "      <td>1.000000</td>\n",
       "      <td>699.000000</td>\n",
       "      <td>0.000000</td>\n",
       "      <td>2.000000</td>\n",
       "      <td>1.000000</td>\n",
       "      <td>75.135870</td>\n",
       "      <td>0.000000</td>\n",
       "      <td>1.000000</td>\n",
       "      <td>0.000000</td>\n",
       "      <td>39.000000</td>\n",
       "    </tr>\n",
       "    <tr>\n",
       "      <th>75%</th>\n",
       "      <td>2019.0</td>\n",
       "      <td>0.000000</td>\n",
       "      <td>3.000000</td>\n",
       "      <td>0.000000</td>\n",
       "      <td>0.000000</td>\n",
       "      <td>3.000000</td>\n",
       "      <td>0.000000</td>\n",
       "      <td>0.000000</td>\n",
       "      <td>1.000000</td>\n",
       "      <td>4.365000e+05</td>\n",
       "      <td>...</td>\n",
       "      <td>3.000000</td>\n",
       "      <td>800.000000</td>\n",
       "      <td>1.000000</td>\n",
       "      <td>3.000000</td>\n",
       "      <td>1.000000</td>\n",
       "      <td>84.574468</td>\n",
       "      <td>3.000000</td>\n",
       "      <td>1.000000</td>\n",
       "      <td>0.000000</td>\n",
       "      <td>44.000000</td>\n",
       "    </tr>\n",
       "    <tr>\n",
       "      <th>max</th>\n",
       "      <td>2019.0</td>\n",
       "      <td>1.000000</td>\n",
       "      <td>3.000000</td>\n",
       "      <td>1.000000</td>\n",
       "      <td>2.000000</td>\n",
       "      <td>3.000000</td>\n",
       "      <td>1.000000</td>\n",
       "      <td>1.000000</td>\n",
       "      <td>1.000000</td>\n",
       "      <td>3.576500e+06</td>\n",
       "      <td>...</td>\n",
       "      <td>3.000000</td>\n",
       "      <td>900.000000</td>\n",
       "      <td>1.000000</td>\n",
       "      <td>6.000000</td>\n",
       "      <td>1.000000</td>\n",
       "      <td>7831.250000</td>\n",
       "      <td>3.000000</td>\n",
       "      <td>1.000000</td>\n",
       "      <td>1.000000</td>\n",
       "      <td>61.000000</td>\n",
       "    </tr>\n",
       "  </tbody>\n",
       "</table>\n",
       "<p>8 rows × 33 columns</p>\n",
       "</div>"
      ],
      "text/plain": [
       "           year     loan_limit         Gender  approv_in_adv      loan_type  \\\n",
       "count  143942.0  143942.000000  143942.000000  143942.000000  143942.000000   \n",
       "mean     2019.0       0.067798       1.606640       0.159384       0.338074   \n",
       "std         0.0       0.251400       1.053928       0.366035       0.650770   \n",
       "min      2019.0       0.000000       0.000000       0.000000       0.000000   \n",
       "25%      2019.0       0.000000       1.000000       0.000000       0.000000   \n",
       "50%      2019.0       0.000000       2.000000       0.000000       0.000000   \n",
       "75%      2019.0       0.000000       3.000000       0.000000       0.000000   \n",
       "max      2019.0       1.000000       3.000000       1.000000       2.000000   \n",
       "\n",
       "        loan_purpose  Credit_Worthiness    open_credit  \\\n",
       "count  143942.000000      143942.000000  143942.000000   \n",
       "mean        1.889039           0.043844       0.003745   \n",
       "std         1.141760           0.204749       0.061078   \n",
       "min         0.000000           0.000000       0.000000   \n",
       "25%         1.000000           0.000000       0.000000   \n",
       "50%         2.000000           0.000000       0.000000   \n",
       "75%         3.000000           0.000000       0.000000   \n",
       "max         3.000000           1.000000       1.000000   \n",
       "\n",
       "       business_or_commercial   loan_amount  ...    credit_type  \\\n",
       "count           143942.000000  1.439420e+05  ...  143942.000000   \n",
       "mean                 0.861646  3.318169e+05  ...       1.333495   \n",
       "std                  0.345273  1.842259e+05  ...       1.195074   \n",
       "min                  0.000000  1.650000e+04  ...       0.000000   \n",
       "25%                  1.000000  1.965000e+05  ...       0.000000   \n",
       "50%                  1.000000  2.965000e+05  ...       1.000000   \n",
       "75%                  1.000000  4.365000e+05  ...       3.000000   \n",
       "max                  1.000000  3.576500e+06  ...       3.000000   \n",
       "\n",
       "        Credit_Score  co-applicant_credit_type            age  \\\n",
       "count  143942.000000             143942.000000  143942.000000   \n",
       "mean      699.697649                  0.499528       2.242084   \n",
       "std       115.891766                  0.500002       1.520756   \n",
       "min       500.000000                  0.000000       0.000000   \n",
       "25%       599.000000                  0.000000       1.000000   \n",
       "50%       699.000000                  0.000000       2.000000   \n",
       "75%       800.000000                  1.000000       3.000000   \n",
       "max       900.000000                  1.000000       6.000000   \n",
       "\n",
       "       submission_of_application            LTV         Region  Security_Type  \\\n",
       "count              143942.000000  143942.000000  143942.000000  143942.000000   \n",
       "mean                    0.645218      72.941953       1.415709       0.999771   \n",
       "std                     0.478449      38.370416       1.452372       0.015140   \n",
       "min                     0.000000       0.967478       0.000000       0.000000   \n",
       "25%                     0.000000      63.144841       0.000000       1.000000   \n",
       "50%                     1.000000      75.135870       0.000000       1.000000   \n",
       "75%                     1.000000      84.574468       3.000000       1.000000   \n",
       "max                     1.000000    7831.250000       3.000000       1.000000   \n",
       "\n",
       "              Status          dtir1  \n",
       "count  143942.000000  143942.000000  \n",
       "mean        0.244925      37.927957  \n",
       "std         0.430044       9.667492  \n",
       "min         0.000000       5.000000  \n",
       "25%         0.000000      33.000000  \n",
       "50%         0.000000      39.000000  \n",
       "75%         0.000000      44.000000  \n",
       "max         1.000000      61.000000  \n",
       "\n",
       "[8 rows x 33 columns]"
      ]
     },
     "execution_count": 270,
     "metadata": {},
     "output_type": "execute_result"
    }
   ],
   "source": [
    "df.describe()"
   ]
  },
  {
   "attachments": {},
   "cell_type": "markdown",
   "id": "a8477ec5",
   "metadata": {
    "papermill": {
     "duration": 0.033912,
     "end_time": "2023-05-11T14:21:54.633902",
     "exception": false,
     "start_time": "2023-05-11T14:21:54.599990",
     "status": "completed"
    },
    "tags": []
   },
   "source": [
    " I scaled numerical features within a specific range. It transforms the features by scaling them to a specified range, typically between 0 and 1."
   ]
  },
  {
   "cell_type": "code",
   "execution_count": 271,
   "id": "58b54ca7",
   "metadata": {
    "execution": {
     "iopub.execute_input": "2023-05-11T14:21:54.836793Z",
     "iopub.status.busy": "2023-05-11T14:21:54.835839Z",
     "iopub.status.idle": "2023-05-11T14:21:54.841601Z",
     "shell.execute_reply": "2023-05-11T14:21:54.840547Z"
    },
    "papermill": {
     "duration": 0.043427,
     "end_time": "2023-05-11T14:21:54.844038",
     "exception": false,
     "start_time": "2023-05-11T14:21:54.800611",
     "status": "completed"
    },
    "tags": []
   },
   "outputs": [],
   "source": [
    "from sklearn.model_selection import train_test_split"
   ]
  },
  {
   "cell_type": "code",
   "execution_count": 272,
   "id": "9265edf6",
   "metadata": {
    "execution": {
     "iopub.execute_input": "2023-05-11T14:21:54.917866Z",
     "iopub.status.busy": "2023-05-11T14:21:54.917031Z",
     "iopub.status.idle": "2023-05-11T14:21:54.956377Z",
     "shell.execute_reply": "2023-05-11T14:21:54.955084Z"
    },
    "papermill": {
     "duration": 0.080107,
     "end_time": "2023-05-11T14:21:54.959701",
     "exception": false,
     "start_time": "2023-05-11T14:21:54.879594",
     "status": "completed"
    },
    "tags": []
   },
   "outputs": [],
   "source": [
    "x_train, x_test, y_train, y_test = train_test_split(X_pca,y, test_size=0.2, random_state=150)"
   ]
  },
  {
   "cell_type": "code",
   "execution_count": 273,
   "id": "d9d2874f",
   "metadata": {
    "execution": {
     "iopub.execute_input": "2023-05-11T14:21:55.035396Z",
     "iopub.status.busy": "2023-05-11T14:21:55.034577Z",
     "iopub.status.idle": "2023-05-11T14:21:55.087637Z",
     "shell.execute_reply": "2023-05-11T14:21:55.086311Z"
    },
    "papermill": {
     "duration": 0.093931,
     "end_time": "2023-05-11T14:21:55.090261",
     "exception": false,
     "start_time": "2023-05-11T14:21:54.996330",
     "status": "completed"
    },
    "tags": []
   },
   "outputs": [
    {
     "data": {
      "text/html": [
       "<div>\n",
       "<style scoped>\n",
       "    .dataframe tbody tr th:only-of-type {\n",
       "        vertical-align: middle;\n",
       "    }\n",
       "\n",
       "    .dataframe tbody tr th {\n",
       "        vertical-align: top;\n",
       "    }\n",
       "\n",
       "    .dataframe thead th {\n",
       "        text-align: right;\n",
       "    }\n",
       "</style>\n",
       "<table border=\"1\" class=\"dataframe\">\n",
       "  <thead>\n",
       "    <tr style=\"text-align: right;\">\n",
       "      <th></th>\n",
       "      <th>year</th>\n",
       "      <th>loan_limit</th>\n",
       "      <th>Gender</th>\n",
       "      <th>approv_in_adv</th>\n",
       "      <th>loan_type</th>\n",
       "      <th>loan_purpose</th>\n",
       "      <th>Credit_Worthiness</th>\n",
       "      <th>open_credit</th>\n",
       "      <th>business_or_commercial</th>\n",
       "      <th>loan_amount</th>\n",
       "      <th>...</th>\n",
       "      <th>credit_type</th>\n",
       "      <th>Credit_Score</th>\n",
       "      <th>co-applicant_credit_type</th>\n",
       "      <th>age</th>\n",
       "      <th>submission_of_application</th>\n",
       "      <th>LTV</th>\n",
       "      <th>Region</th>\n",
       "      <th>Security_Type</th>\n",
       "      <th>Status</th>\n",
       "      <th>dtir1</th>\n",
       "    </tr>\n",
       "    <tr>\n",
       "      <th>ID</th>\n",
       "      <th></th>\n",
       "      <th></th>\n",
       "      <th></th>\n",
       "      <th></th>\n",
       "      <th></th>\n",
       "      <th></th>\n",
       "      <th></th>\n",
       "      <th></th>\n",
       "      <th></th>\n",
       "      <th></th>\n",
       "      <th></th>\n",
       "      <th></th>\n",
       "      <th></th>\n",
       "      <th></th>\n",
       "      <th></th>\n",
       "      <th></th>\n",
       "      <th></th>\n",
       "      <th></th>\n",
       "      <th></th>\n",
       "      <th></th>\n",
       "      <th></th>\n",
       "    </tr>\n",
       "  </thead>\n",
       "  <tbody>\n",
       "    <tr>\n",
       "      <th>24890</th>\n",
       "      <td>2019</td>\n",
       "      <td>0</td>\n",
       "      <td>3</td>\n",
       "      <td>0</td>\n",
       "      <td>0</td>\n",
       "      <td>0</td>\n",
       "      <td>0</td>\n",
       "      <td>0</td>\n",
       "      <td>1</td>\n",
       "      <td>116500</td>\n",
       "      <td>...</td>\n",
       "      <td>3</td>\n",
       "      <td>758</td>\n",
       "      <td>0</td>\n",
       "      <td>0</td>\n",
       "      <td>1</td>\n",
       "      <td>98.728814</td>\n",
       "      <td>3</td>\n",
       "      <td>1</td>\n",
       "      <td>1</td>\n",
       "      <td>45.0</td>\n",
       "    </tr>\n",
       "    <tr>\n",
       "      <th>24891</th>\n",
       "      <td>2019</td>\n",
       "      <td>0</td>\n",
       "      <td>2</td>\n",
       "      <td>0</td>\n",
       "      <td>1</td>\n",
       "      <td>0</td>\n",
       "      <td>0</td>\n",
       "      <td>0</td>\n",
       "      <td>0</td>\n",
       "      <td>206500</td>\n",
       "      <td>...</td>\n",
       "      <td>2</td>\n",
       "      <td>552</td>\n",
       "      <td>1</td>\n",
       "      <td>3</td>\n",
       "      <td>1</td>\n",
       "      <td>75.135870</td>\n",
       "      <td>0</td>\n",
       "      <td>1</td>\n",
       "      <td>1</td>\n",
       "      <td>39.0</td>\n",
       "    </tr>\n",
       "    <tr>\n",
       "      <th>24892</th>\n",
       "      <td>2019</td>\n",
       "      <td>0</td>\n",
       "      <td>2</td>\n",
       "      <td>1</td>\n",
       "      <td>0</td>\n",
       "      <td>0</td>\n",
       "      <td>0</td>\n",
       "      <td>0</td>\n",
       "      <td>1</td>\n",
       "      <td>406500</td>\n",
       "      <td>...</td>\n",
       "      <td>3</td>\n",
       "      <td>834</td>\n",
       "      <td>0</td>\n",
       "      <td>1</td>\n",
       "      <td>1</td>\n",
       "      <td>80.019685</td>\n",
       "      <td>3</td>\n",
       "      <td>1</td>\n",
       "      <td>0</td>\n",
       "      <td>46.0</td>\n",
       "    </tr>\n",
       "    <tr>\n",
       "      <th>24893</th>\n",
       "      <td>2019</td>\n",
       "      <td>0</td>\n",
       "      <td>2</td>\n",
       "      <td>0</td>\n",
       "      <td>0</td>\n",
       "      <td>3</td>\n",
       "      <td>0</td>\n",
       "      <td>0</td>\n",
       "      <td>1</td>\n",
       "      <td>456500</td>\n",
       "      <td>...</td>\n",
       "      <td>3</td>\n",
       "      <td>587</td>\n",
       "      <td>0</td>\n",
       "      <td>2</td>\n",
       "      <td>0</td>\n",
       "      <td>69.376900</td>\n",
       "      <td>0</td>\n",
       "      <td>1</td>\n",
       "      <td>0</td>\n",
       "      <td>42.0</td>\n",
       "    </tr>\n",
       "    <tr>\n",
       "      <th>24894</th>\n",
       "      <td>2019</td>\n",
       "      <td>0</td>\n",
       "      <td>1</td>\n",
       "      <td>1</td>\n",
       "      <td>0</td>\n",
       "      <td>0</td>\n",
       "      <td>0</td>\n",
       "      <td>0</td>\n",
       "      <td>1</td>\n",
       "      <td>696500</td>\n",
       "      <td>...</td>\n",
       "      <td>1</td>\n",
       "      <td>602</td>\n",
       "      <td>1</td>\n",
       "      <td>0</td>\n",
       "      <td>0</td>\n",
       "      <td>91.886544</td>\n",
       "      <td>0</td>\n",
       "      <td>1</td>\n",
       "      <td>0</td>\n",
       "      <td>39.0</td>\n",
       "    </tr>\n",
       "    <tr>\n",
       "      <th>...</th>\n",
       "      <td>...</td>\n",
       "      <td>...</td>\n",
       "      <td>...</td>\n",
       "      <td>...</td>\n",
       "      <td>...</td>\n",
       "      <td>...</td>\n",
       "      <td>...</td>\n",
       "      <td>...</td>\n",
       "      <td>...</td>\n",
       "      <td>...</td>\n",
       "      <td>...</td>\n",
       "      <td>...</td>\n",
       "      <td>...</td>\n",
       "      <td>...</td>\n",
       "      <td>...</td>\n",
       "      <td>...</td>\n",
       "      <td>...</td>\n",
       "      <td>...</td>\n",
       "      <td>...</td>\n",
       "      <td>...</td>\n",
       "      <td>...</td>\n",
       "    </tr>\n",
       "    <tr>\n",
       "      <th>173555</th>\n",
       "      <td>2019</td>\n",
       "      <td>0</td>\n",
       "      <td>3</td>\n",
       "      <td>0</td>\n",
       "      <td>0</td>\n",
       "      <td>2</td>\n",
       "      <td>0</td>\n",
       "      <td>0</td>\n",
       "      <td>1</td>\n",
       "      <td>436500</td>\n",
       "      <td>...</td>\n",
       "      <td>0</td>\n",
       "      <td>659</td>\n",
       "      <td>1</td>\n",
       "      <td>3</td>\n",
       "      <td>1</td>\n",
       "      <td>71.792763</td>\n",
       "      <td>3</td>\n",
       "      <td>1</td>\n",
       "      <td>0</td>\n",
       "      <td>48.0</td>\n",
       "    </tr>\n",
       "    <tr>\n",
       "      <th>173556</th>\n",
       "      <td>2019</td>\n",
       "      <td>0</td>\n",
       "      <td>2</td>\n",
       "      <td>0</td>\n",
       "      <td>0</td>\n",
       "      <td>0</td>\n",
       "      <td>0</td>\n",
       "      <td>0</td>\n",
       "      <td>1</td>\n",
       "      <td>586500</td>\n",
       "      <td>...</td>\n",
       "      <td>0</td>\n",
       "      <td>569</td>\n",
       "      <td>0</td>\n",
       "      <td>0</td>\n",
       "      <td>0</td>\n",
       "      <td>74.428934</td>\n",
       "      <td>3</td>\n",
       "      <td>1</td>\n",
       "      <td>0</td>\n",
       "      <td>15.0</td>\n",
       "    </tr>\n",
       "    <tr>\n",
       "      <th>173557</th>\n",
       "      <td>2019</td>\n",
       "      <td>0</td>\n",
       "      <td>2</td>\n",
       "      <td>0</td>\n",
       "      <td>0</td>\n",
       "      <td>3</td>\n",
       "      <td>0</td>\n",
       "      <td>0</td>\n",
       "      <td>1</td>\n",
       "      <td>446500</td>\n",
       "      <td>...</td>\n",
       "      <td>0</td>\n",
       "      <td>702</td>\n",
       "      <td>1</td>\n",
       "      <td>2</td>\n",
       "      <td>0</td>\n",
       "      <td>61.332418</td>\n",
       "      <td>0</td>\n",
       "      <td>1</td>\n",
       "      <td>0</td>\n",
       "      <td>49.0</td>\n",
       "    </tr>\n",
       "    <tr>\n",
       "      <th>173558</th>\n",
       "      <td>2019</td>\n",
       "      <td>0</td>\n",
       "      <td>0</td>\n",
       "      <td>0</td>\n",
       "      <td>0</td>\n",
       "      <td>3</td>\n",
       "      <td>0</td>\n",
       "      <td>0</td>\n",
       "      <td>1</td>\n",
       "      <td>196500</td>\n",
       "      <td>...</td>\n",
       "      <td>3</td>\n",
       "      <td>737</td>\n",
       "      <td>1</td>\n",
       "      <td>3</td>\n",
       "      <td>1</td>\n",
       "      <td>70.683453</td>\n",
       "      <td>0</td>\n",
       "      <td>1</td>\n",
       "      <td>0</td>\n",
       "      <td>29.0</td>\n",
       "    </tr>\n",
       "    <tr>\n",
       "      <th>173559</th>\n",
       "      <td>2019</td>\n",
       "      <td>0</td>\n",
       "      <td>0</td>\n",
       "      <td>0</td>\n",
       "      <td>0</td>\n",
       "      <td>2</td>\n",
       "      <td>0</td>\n",
       "      <td>0</td>\n",
       "      <td>1</td>\n",
       "      <td>406500</td>\n",
       "      <td>...</td>\n",
       "      <td>0</td>\n",
       "      <td>830</td>\n",
       "      <td>0</td>\n",
       "      <td>2</td>\n",
       "      <td>0</td>\n",
       "      <td>72.849462</td>\n",
       "      <td>0</td>\n",
       "      <td>1</td>\n",
       "      <td>0</td>\n",
       "      <td>44.0</td>\n",
       "    </tr>\n",
       "  </tbody>\n",
       "</table>\n",
       "<p>143942 rows × 33 columns</p>\n",
       "</div>"
      ],
      "text/plain": [
       "        year  loan_limit  Gender  approv_in_adv  loan_type  loan_purpose  \\\n",
       "ID                                                                         \n",
       "24890   2019           0       3              0          0             0   \n",
       "24891   2019           0       2              0          1             0   \n",
       "24892   2019           0       2              1          0             0   \n",
       "24893   2019           0       2              0          0             3   \n",
       "24894   2019           0       1              1          0             0   \n",
       "...      ...         ...     ...            ...        ...           ...   \n",
       "173555  2019           0       3              0          0             2   \n",
       "173556  2019           0       2              0          0             0   \n",
       "173557  2019           0       2              0          0             3   \n",
       "173558  2019           0       0              0          0             3   \n",
       "173559  2019           0       0              0          0             2   \n",
       "\n",
       "        Credit_Worthiness  open_credit  business_or_commercial  loan_amount  \\\n",
       "ID                                                                            \n",
       "24890                   0            0                       1       116500   \n",
       "24891                   0            0                       0       206500   \n",
       "24892                   0            0                       1       406500   \n",
       "24893                   0            0                       1       456500   \n",
       "24894                   0            0                       1       696500   \n",
       "...                   ...          ...                     ...          ...   \n",
       "173555                  0            0                       1       436500   \n",
       "173556                  0            0                       1       586500   \n",
       "173557                  0            0                       1       446500   \n",
       "173558                  0            0                       1       196500   \n",
       "173559                  0            0                       1       406500   \n",
       "\n",
       "        ...  credit_type  Credit_Score  co-applicant_credit_type  age  \\\n",
       "ID      ...                                                             \n",
       "24890   ...            3           758                         0    0   \n",
       "24891   ...            2           552                         1    3   \n",
       "24892   ...            3           834                         0    1   \n",
       "24893   ...            3           587                         0    2   \n",
       "24894   ...            1           602                         1    0   \n",
       "...     ...          ...           ...                       ...  ...   \n",
       "173555  ...            0           659                         1    3   \n",
       "173556  ...            0           569                         0    0   \n",
       "173557  ...            0           702                         1    2   \n",
       "173558  ...            3           737                         1    3   \n",
       "173559  ...            0           830                         0    2   \n",
       "\n",
       "        submission_of_application        LTV  Region  Security_Type  Status  \\\n",
       "ID                                                                            \n",
       "24890                           1  98.728814       3              1       1   \n",
       "24891                           1  75.135870       0              1       1   \n",
       "24892                           1  80.019685       3              1       0   \n",
       "24893                           0  69.376900       0              1       0   \n",
       "24894                           0  91.886544       0              1       0   \n",
       "...                           ...        ...     ...            ...     ...   \n",
       "173555                          1  71.792763       3              1       0   \n",
       "173556                          0  74.428934       3              1       0   \n",
       "173557                          0  61.332418       0              1       0   \n",
       "173558                          1  70.683453       0              1       0   \n",
       "173559                          0  72.849462       0              1       0   \n",
       "\n",
       "        dtir1  \n",
       "ID             \n",
       "24890    45.0  \n",
       "24891    39.0  \n",
       "24892    46.0  \n",
       "24893    42.0  \n",
       "24894    39.0  \n",
       "...       ...  \n",
       "173555   48.0  \n",
       "173556   15.0  \n",
       "173557   49.0  \n",
       "173558   29.0  \n",
       "173559   44.0  \n",
       "\n",
       "[143942 rows x 33 columns]"
      ]
     },
     "execution_count": 273,
     "metadata": {},
     "output_type": "execute_result"
    }
   ],
   "source": [
    "df"
   ]
  },
  {
   "attachments": {},
   "cell_type": "markdown",
   "id": "0d2d809c",
   "metadata": {
    "papermill": {
     "duration": 0.035113,
     "end_time": "2023-05-11T14:21:55.160308",
     "exception": false,
     "start_time": "2023-05-11T14:21:55.125195",
     "status": "completed"
    },
    "tags": []
   },
   "source": [
    "LOGISTICSREGRESSION"
   ]
  },
  {
   "cell_type": "code",
   "execution_count": 274,
   "id": "d2512551",
   "metadata": {
    "execution": {
     "iopub.execute_input": "2023-05-11T14:21:55.233402Z",
     "iopub.status.busy": "2023-05-11T14:21:55.232564Z",
     "iopub.status.idle": "2023-05-11T14:21:55.237351Z",
     "shell.execute_reply": "2023-05-11T14:21:55.236403Z"
    },
    "papermill": {
     "duration": 0.045169,
     "end_time": "2023-05-11T14:21:55.240084",
     "exception": false,
     "start_time": "2023-05-11T14:21:55.194915",
     "status": "completed"
    },
    "tags": []
   },
   "outputs": [],
   "source": [
    "from sklearn.linear_model import LogisticRegression\n"
   ]
  },
  {
   "cell_type": "code",
   "execution_count": 275,
   "id": "21b692c4",
   "metadata": {
    "execution": {
     "iopub.execute_input": "2023-05-11T14:21:55.313330Z",
     "iopub.status.busy": "2023-05-11T14:21:55.312265Z",
     "iopub.status.idle": "2023-05-11T14:21:56.131075Z",
     "shell.execute_reply": "2023-05-11T14:21:56.129367Z"
    },
    "papermill": {
     "duration": 0.861209,
     "end_time": "2023-05-11T14:21:56.136149",
     "exception": false,
     "start_time": "2023-05-11T14:21:55.274940",
     "status": "completed"
    },
    "tags": []
   },
   "outputs": [],
   "source": [
    "# Model training\n",
    "log= LogisticRegression()\n",
    "log.fit(x_train, y_train)\n",
    "# Model testing\n",
    "log_y_pred = log.predict(x_test)"
   ]
  },
  {
   "cell_type": "code",
   "execution_count": 276,
   "id": "954e3a05",
   "metadata": {
    "execution": {
     "iopub.execute_input": "2023-05-11T14:21:56.268252Z",
     "iopub.status.busy": "2023-05-11T14:21:56.267796Z",
     "iopub.status.idle": "2023-05-11T14:21:56.272492Z",
     "shell.execute_reply": "2023-05-11T14:21:56.271620Z"
    },
    "papermill": {
     "duration": 0.065095,
     "end_time": "2023-05-11T14:21:56.274703",
     "exception": false,
     "start_time": "2023-05-11T14:21:56.209608",
     "status": "completed"
    },
    "tags": []
   },
   "outputs": [],
   "source": [
    "from sklearn.metrics import accuracy_score, classification_report"
   ]
  },
  {
   "cell_type": "code",
   "execution_count": 277,
   "id": "4ca19138",
   "metadata": {
    "execution": {
     "iopub.execute_input": "2023-05-11T14:21:56.348124Z",
     "iopub.status.busy": "2023-05-11T14:21:56.347299Z",
     "iopub.status.idle": "2023-05-11T14:21:56.430871Z",
     "shell.execute_reply": "2023-05-11T14:21:56.429187Z"
    },
    "papermill": {
     "duration": 0.123764,
     "end_time": "2023-05-11T14:21:56.433820",
     "exception": false,
     "start_time": "2023-05-11T14:21:56.310056",
     "status": "completed"
    },
    "tags": []
   },
   "outputs": [
    {
     "name": "stdout",
     "output_type": "stream",
     "text": [
      "Accuracy Score: 0.617458309373203\n",
      "Classification Report:\n",
      "              precision    recall  f1-score   support\n",
      "\n",
      "           0       0.67      0.46      0.55     21813\n",
      "           1       0.59      0.78      0.67     21662\n",
      "\n",
      "    accuracy                           0.62     43475\n",
      "   macro avg       0.63      0.62      0.61     43475\n",
      "weighted avg       0.63      0.62      0.61     43475\n",
      "\n"
     ]
    }
   ],
   "source": [
    "# evaluate the model\n",
    "logestics_accuracy = accuracy_score(y_test,log_y_pred)\n",
    "print(f'Accuracy Score: {logestics_accuracy}')\n",
    "\n",
    "logestics_report = classification_report(y_test,log_y_pred)\n",
    "print(f'Classification Report:\\n{logestics_report}')"
   ]
  },
  {
   "attachments": {},
   "cell_type": "markdown",
   "id": "1079289b",
   "metadata": {
    "papermill": {
     "duration": 0.035076,
     "end_time": "2023-05-11T14:21:56.503696",
     "exception": false,
     "start_time": "2023-05-11T14:21:56.468620",
     "status": "completed"
    },
    "tags": []
   },
   "source": [
    "KNN"
   ]
  },
  {
   "cell_type": "code",
   "execution_count": 278,
   "id": "7edc43e4",
   "metadata": {
    "execution": {
     "iopub.execute_input": "2023-05-11T14:21:56.575639Z",
     "iopub.status.busy": "2023-05-11T14:21:56.575187Z",
     "iopub.status.idle": "2023-05-11T14:22:13.296075Z",
     "shell.execute_reply": "2023-05-11T14:22:13.294672Z"
    },
    "papermill": {
     "duration": 16.760884,
     "end_time": "2023-05-11T14:22:13.299379",
     "exception": false,
     "start_time": "2023-05-11T14:21:56.538495",
     "status": "completed"
    },
    "tags": []
   },
   "outputs": [],
   "source": [
    "from sklearn.neighbors import KNeighborsClassifier\n",
    "knn=KNeighborsClassifier(n_neighbors=5)\n",
    "knn.fit(x_train,y_train)\n",
    "knn_y_pred=knn.predict(x_test)"
   ]
  },
  {
   "cell_type": "code",
   "execution_count": 279,
   "id": "bf22442e",
   "metadata": {
    "execution": {
     "iopub.execute_input": "2023-05-11T14:22:13.378170Z",
     "iopub.status.busy": "2023-05-11T14:22:13.377183Z",
     "iopub.status.idle": "2023-05-11T14:22:13.462871Z",
     "shell.execute_reply": "2023-05-11T14:22:13.461442Z"
    },
    "papermill": {
     "duration": 0.132031,
     "end_time": "2023-05-11T14:22:13.468191",
     "exception": false,
     "start_time": "2023-05-11T14:22:13.336160",
     "status": "completed"
    },
    "tags": []
   },
   "outputs": [
    {
     "name": "stdout",
     "output_type": "stream",
     "text": [
      "Accuracy: 0.877607820586544\n",
      "Classification Report:\n",
      "              precision    recall  f1-score   support\n",
      "\n",
      "           0       0.93      0.82      0.87     21813\n",
      "           1       0.84      0.94      0.88     21662\n",
      "\n",
      "    accuracy                           0.88     43475\n",
      "   macro avg       0.88      0.88      0.88     43475\n",
      "weighted avg       0.88      0.88      0.88     43475\n",
      "\n"
     ]
    }
   ],
   "source": [
    "# Evaluating the model\n",
    "knn_accuracy = accuracy_score(y_test, knn_y_pred)\n",
    "print(\"Accuracy: {}\".format(knn_accuracy))\n",
    "knn_report = classification_report(y_test,knn_y_pred)\n",
    "print(f'Classification Report:\\n{knn_report}')\n"
   ]
  },
  {
   "cell_type": "code",
   "execution_count": 280,
   "id": "3f2d97ee",
   "metadata": {
    "execution": {
     "iopub.execute_input": "2023-05-11T14:22:13.548338Z",
     "iopub.status.busy": "2023-05-11T14:22:13.547179Z",
     "iopub.status.idle": "2023-05-11T14:23:20.785191Z",
     "shell.execute_reply": "2023-05-11T14:23:20.783526Z"
    },
    "papermill": {
     "duration": 67.280454,
     "end_time": "2023-05-11T14:23:20.787837",
     "exception": false,
     "start_time": "2023-05-11T14:22:13.507383",
     "status": "completed"
    },
    "tags": []
   },
   "outputs": [
    {
     "name": "stdout",
     "output_type": "stream",
     "text": [
      "Accuracy Score: 0.9193612384200024\n",
      "Classification Report:\n",
      "              precision    recall  f1-score   support\n",
      "\n",
      "           0       0.97      0.87      0.91     86874\n",
      "           1       0.88      0.97      0.92     87025\n",
      "\n",
      "    accuracy                           0.92    173899\n",
      "   macro avg       0.92      0.92      0.92    173899\n",
      "weighted avg       0.92      0.92      0.92    173899\n",
      "\n"
     ]
    }
   ],
   "source": [
    "knn_train_pred =knn.predict(x_train)\n",
    "knn_train_accuracy = accuracy_score(y_train,knn_train_pred)\n",
    "print(f'Accuracy Score: {knn_train_accuracy}')\n",
    "\n",
    "knn_train_report = classification_report(y_train,knn_train_pred)\n",
    "print(f'Classification Report:\\n{knn_train_report}')"
   ]
  },
  {
   "cell_type": "code",
   "execution_count": 281,
   "id": "52b74812",
   "metadata": {
    "execution": {
     "iopub.execute_input": "2023-05-11T14:23:20.861314Z",
     "iopub.status.busy": "2023-05-11T14:23:20.860209Z",
     "iopub.status.idle": "2023-05-11T14:23:21.048337Z",
     "shell.execute_reply": "2023-05-11T14:23:21.047149Z"
    },
    "papermill": {
     "duration": 0.228258,
     "end_time": "2023-05-11T14:23:21.051252",
     "exception": false,
     "start_time": "2023-05-11T14:23:20.822994",
     "status": "completed"
    },
    "tags": []
   },
   "outputs": [],
   "source": [
    "import xgboost as xgb"
   ]
  },
  {
   "cell_type": "code",
   "execution_count": 282,
   "id": "05a6a5aa",
   "metadata": {
    "execution": {
     "iopub.execute_input": "2023-05-11T14:23:21.125965Z",
     "iopub.status.busy": "2023-05-11T14:23:21.125454Z",
     "iopub.status.idle": "2023-05-11T14:23:23.857422Z",
     "shell.execute_reply": "2023-05-11T14:23:23.856226Z"
    },
    "papermill": {
     "duration": 2.773477,
     "end_time": "2023-05-11T14:23:23.860858",
     "exception": false,
     "start_time": "2023-05-11T14:23:21.087381",
     "status": "completed"
    },
    "tags": []
   },
   "outputs": [],
   "source": [
    "xgb = xgb.XGBClassifier(n_estimators=50,max_depth=1, random_state=45)\n",
    "\n",
    "# Training the model\n",
    "xgb.fit(x_train, y_train)\n",
    "\n",
    "# Making predictions on the testing set\n",
    "xgb_y_pred = xgb.predict(x_test)"
   ]
  },
  {
   "cell_type": "code",
   "execution_count": 283,
   "id": "afb932bd",
   "metadata": {
    "execution": {
     "iopub.execute_input": "2023-05-11T14:23:23.935942Z",
     "iopub.status.busy": "2023-05-11T14:23:23.934405Z",
     "iopub.status.idle": "2023-05-11T14:23:24.017846Z",
     "shell.execute_reply": "2023-05-11T14:23:24.016379Z"
    },
    "papermill": {
     "duration": 0.12288,
     "end_time": "2023-05-11T14:23:24.020558",
     "exception": false,
     "start_time": "2023-05-11T14:23:23.897678",
     "status": "completed"
    },
    "tags": []
   },
   "outputs": [
    {
     "name": "stdout",
     "output_type": "stream",
     "text": [
      "Accuracy: 0.9596549741230592\n",
      "Classification Report:\n",
      "              precision    recall  f1-score   support\n",
      "\n",
      "           0       0.99      0.93      0.96     21813\n",
      "           1       0.93      0.99      0.96     21662\n",
      "\n",
      "    accuracy                           0.96     43475\n",
      "   macro avg       0.96      0.96      0.96     43475\n",
      "weighted avg       0.96      0.96      0.96     43475\n",
      "\n"
     ]
    }
   ],
   "source": [
    "# Evaluating the model\n",
    "xgb_accuracy = accuracy_score(y_test, xgb_y_pred)\n",
    "print(\"Accuracy: {}\".format(xgb_accuracy))\n",
    "xgb_report = classification_report(y_test,xgb_y_pred)\n",
    "print(f'Classification Report:\\n{xgb_report}')"
   ]
  },
  {
   "cell_type": "code",
   "execution_count": 284,
   "id": "c312d459",
   "metadata": {
    "execution": {
     "iopub.execute_input": "2023-05-11T14:23:24.095380Z",
     "iopub.status.busy": "2023-05-11T14:23:24.094955Z",
     "iopub.status.idle": "2023-05-11T14:23:24.435083Z",
     "shell.execute_reply": "2023-05-11T14:23:24.433712Z"
    },
    "papermill": {
     "duration": 0.381923,
     "end_time": "2023-05-11T14:23:24.437913",
     "exception": false,
     "start_time": "2023-05-11T14:23:24.055990",
     "status": "completed"
    },
    "tags": []
   },
   "outputs": [
    {
     "name": "stdout",
     "output_type": "stream",
     "text": [
      "Accuracy Score: 0.9591141984715266\n",
      "Classification Report:\n",
      "              precision    recall  f1-score   support\n",
      "\n",
      "           0       0.99      0.92      0.96     86874\n",
      "           1       0.93      0.99      0.96     87025\n",
      "\n",
      "    accuracy                           0.96    173899\n",
      "   macro avg       0.96      0.96      0.96    173899\n",
      "weighted avg       0.96      0.96      0.96    173899\n",
      "\n"
     ]
    }
   ],
   "source": [
    "xgb_train_pred =xgb.predict(x_train)\n",
    "xgb_train_accuracy = accuracy_score(y_train,xgb_train_pred)\n",
    "print(f'Accuracy Score: {xgb_train_accuracy}')\n",
    "\n",
    "xgb_train_report = classification_report(y_train,xgb_train_pred)\n",
    "print(f'Classification Report:\\n{xgb_train_report}')"
   ]
  },
  {
   "cell_type": "code",
   "execution_count": 285,
   "id": "537e655d",
   "metadata": {
    "execution": {
     "iopub.execute_input": "2023-05-11T14:23:24.512354Z",
     "iopub.status.busy": "2023-05-11T14:23:24.511512Z",
     "iopub.status.idle": "2023-05-11T14:23:24.682250Z",
     "shell.execute_reply": "2023-05-11T14:23:24.681357Z"
    },
    "papermill": {
     "duration": 0.211178,
     "end_time": "2023-05-11T14:23:24.685189",
     "exception": false,
     "start_time": "2023-05-11T14:23:24.474011",
     "status": "completed"
    },
    "tags": []
   },
   "outputs": [],
   "source": [
    "from sklearn.ensemble import RandomForestClassifier"
   ]
  },
  {
   "cell_type": "code",
   "execution_count": 286,
   "id": "bdacda71",
   "metadata": {
    "execution": {
     "iopub.execute_input": "2023-05-11T14:23:24.759799Z",
     "iopub.status.busy": "2023-05-11T14:23:24.758915Z",
     "iopub.status.idle": "2023-05-11T14:23:52.435298Z",
     "shell.execute_reply": "2023-05-11T14:23:52.433947Z"
    },
    "papermill": {
     "duration": 27.717556,
     "end_time": "2023-05-11T14:23:52.438601",
     "exception": false,
     "start_time": "2023-05-11T14:23:24.721045",
     "status": "completed"
    },
    "tags": []
   },
   "outputs": [],
   "source": [
    "# Creating the Random Forest model\n",
    "rf= RandomForestClassifier(n_estimators=100, max_depth=3)\n",
    "\n",
    "# Training the model\n",
    "rf.fit(x_train, y_train)\n",
    "\n",
    "# Making predictions on the testing set\n",
    "rf_y_pred = rf.predict(x_test)"
   ]
  },
  {
   "cell_type": "code",
   "execution_count": 287,
   "id": "5323797b",
   "metadata": {
    "execution": {
     "iopub.execute_input": "2023-05-11T14:23:52.512392Z",
     "iopub.status.busy": "2023-05-11T14:23:52.511267Z",
     "iopub.status.idle": "2023-05-11T14:23:52.592596Z",
     "shell.execute_reply": "2023-05-11T14:23:52.591710Z"
    },
    "papermill": {
     "duration": 0.121085,
     "end_time": "2023-05-11T14:23:52.595163",
     "exception": false,
     "start_time": "2023-05-11T14:23:52.474078",
     "status": "completed"
    },
    "tags": []
   },
   "outputs": [
    {
     "name": "stdout",
     "output_type": "stream",
     "text": [
      "Accuracy: 0.903254744105808\n",
      "Classification Report:\n",
      "              precision    recall  f1-score   support\n",
      "\n",
      "           0       0.95      0.85      0.90     21813\n",
      "           1       0.87      0.95      0.91     21662\n",
      "\n",
      "    accuracy                           0.90     43475\n",
      "   macro avg       0.91      0.90      0.90     43475\n",
      "weighted avg       0.91      0.90      0.90     43475\n",
      "\n"
     ]
    }
   ],
   "source": [
    "# Evaluating the model\n",
    "rf_accuracy = accuracy_score(y_test, rf_y_pred)\n",
    "print(\"Accuracy: {}\".format(rf_accuracy))\n",
    "rf_report = classification_report(y_test,rf_y_pred)\n",
    "print(f'Classification Report:\\n{rf_report}')"
   ]
  },
  {
   "cell_type": "code",
   "execution_count": 288,
   "id": "85ea12c8",
   "metadata": {
    "execution": {
     "iopub.execute_input": "2023-05-11T14:23:52.668963Z",
     "iopub.status.busy": "2023-05-11T14:23:52.668182Z",
     "iopub.status.idle": "2023-05-11T14:23:53.968770Z",
     "shell.execute_reply": "2023-05-11T14:23:53.967499Z"
    },
    "papermill": {
     "duration": 1.340841,
     "end_time": "2023-05-11T14:23:53.971406",
     "exception": false,
     "start_time": "2023-05-11T14:23:52.630565",
     "status": "completed"
    },
    "tags": []
   },
   "outputs": [
    {
     "name": "stdout",
     "output_type": "stream",
     "text": [
      "Accuracy Score: 0.9017935698307639\n",
      "Classification Report:\n",
      "              precision    recall  f1-score   support\n",
      "\n",
      "           0       0.95      0.85      0.90     86874\n",
      "           1       0.87      0.95      0.91     87025\n",
      "\n",
      "    accuracy                           0.90    173899\n",
      "   macro avg       0.91      0.90      0.90    173899\n",
      "weighted avg       0.91      0.90      0.90    173899\n",
      "\n"
     ]
    }
   ],
   "source": [
    "rf_train_pred =rf.predict(x_train)\n",
    "rf_train_accuracy = accuracy_score(y_train,rf_train_pred)\n",
    "print(f'Accuracy Score: {rf_train_accuracy}')\n",
    "\n",
    "rf_train_report = classification_report(y_train,rf_train_pred)\n",
    "print(f'Classification Report:\\n{rf_train_report}')"
   ]
  },
  {
   "cell_type": "code",
   "execution_count": 289,
   "id": "a49d8366",
   "metadata": {
    "execution": {
     "iopub.execute_input": "2023-05-11T14:23:54.047112Z",
     "iopub.status.busy": "2023-05-11T14:23:54.046652Z",
     "iopub.status.idle": "2023-05-11T14:23:54.052419Z",
     "shell.execute_reply": "2023-05-11T14:23:54.051303Z"
    },
    "papermill": {
     "duration": 0.046342,
     "end_time": "2023-05-11T14:23:54.054515",
     "exception": false,
     "start_time": "2023-05-11T14:23:54.008173",
     "status": "completed"
    },
    "tags": []
   },
   "outputs": [],
   "source": [
    "from sklearn.ensemble import GradientBoostingClassifier\n"
   ]
  },
  {
   "cell_type": "code",
   "execution_count": 290,
   "id": "3e0b9d09",
   "metadata": {
    "execution": {
     "iopub.execute_input": "2023-05-11T14:23:54.129099Z",
     "iopub.status.busy": "2023-05-11T14:23:54.127906Z",
     "iopub.status.idle": "2023-05-11T14:24:17.505158Z",
     "shell.execute_reply": "2023-05-11T14:24:17.503925Z"
    },
    "papermill": {
     "duration": 23.417583,
     "end_time": "2023-05-11T14:24:17.508272",
     "exception": false,
     "start_time": "2023-05-11T14:23:54.090689",
     "status": "completed"
    },
    "tags": []
   },
   "outputs": [],
   "source": [
    "# Creating the Gradient Boosting model\n",
    "GBC = GradientBoostingClassifier(n_estimators=50, learning_rate=0.1, max_depth=1)\n",
    "\n",
    "# Training the model\n",
    "GBC.fit(x_train, y_train)\n",
    "\n",
    "# Making predictions on the testing set\n",
    "GBC_y_pred = GBC.predict(x_test)"
   ]
  },
  {
   "cell_type": "code",
   "execution_count": 291,
   "id": "8f951c4a",
   "metadata": {
    "execution": {
     "iopub.execute_input": "2023-05-11T14:24:17.581717Z",
     "iopub.status.busy": "2023-05-11T14:24:17.581239Z",
     "iopub.status.idle": "2023-05-11T14:24:17.662011Z",
     "shell.execute_reply": "2023-05-11T14:24:17.660468Z"
    },
    "papermill": {
     "duration": 0.120393,
     "end_time": "2023-05-11T14:24:17.664583",
     "exception": false,
     "start_time": "2023-05-11T14:24:17.544190",
     "status": "completed"
    },
    "tags": []
   },
   "outputs": [
    {
     "name": "stdout",
     "output_type": "stream",
     "text": [
      "Accuracy: 0.949419206440483\n",
      "Classification Report:\n",
      "              precision    recall  f1-score   support\n",
      "\n",
      "           0       0.98      0.91      0.95     21813\n",
      "           1       0.92      0.99      0.95     21662\n",
      "\n",
      "    accuracy                           0.95     43475\n",
      "   macro avg       0.95      0.95      0.95     43475\n",
      "weighted avg       0.95      0.95      0.95     43475\n",
      "\n"
     ]
    }
   ],
   "source": [
    "# Evaluating the model\n",
    "GBC_accuracy = accuracy_score(y_test, GBC_y_pred)\n",
    "print(\"Accuracy: {}\".format(GBC_accuracy))\n",
    "GBC_report = classification_report(y_test,GBC_y_pred)\n",
    "print(f'Classification Report:\\n{GBC_report}')"
   ]
  },
  {
   "cell_type": "code",
   "execution_count": 292,
   "id": "5ed0a5dd",
   "metadata": {
    "execution": {
     "iopub.execute_input": "2023-05-11T14:24:17.736836Z",
     "iopub.status.busy": "2023-05-11T14:24:17.736401Z",
     "iopub.status.idle": "2023-05-11T14:24:18.109635Z",
     "shell.execute_reply": "2023-05-11T14:24:18.107978Z"
    },
    "papermill": {
     "duration": 0.412336,
     "end_time": "2023-05-11T14:24:18.112281",
     "exception": false,
     "start_time": "2023-05-11T14:24:17.699945",
     "status": "completed"
    },
    "tags": []
   },
   "outputs": [
    {
     "name": "stdout",
     "output_type": "stream",
     "text": [
      "Accuracy Score: 0.9489416270363832\n",
      "Classification Report:\n",
      "              precision    recall  f1-score   support\n",
      "\n",
      "           0       0.98      0.91      0.95     86874\n",
      "           1       0.92      0.98      0.95     87025\n",
      "\n",
      "    accuracy                           0.95    173899\n",
      "   macro avg       0.95      0.95      0.95    173899\n",
      "weighted avg       0.95      0.95      0.95    173899\n",
      "\n"
     ]
    }
   ],
   "source": [
    "GBC_train_pred =GBC.predict(x_train)\n",
    "GBC_train_accuracy = accuracy_score(y_train,GBC_train_pred)\n",
    "print(f'Accuracy Score: {GBC_train_accuracy}')\n",
    "\n",
    "GBC_train_report = classification_report(y_train,GBC_train_pred)\n",
    "print(f'Classification Report:\\n{GBC_train_report}')"
   ]
  },
  {
   "cell_type": "code",
   "execution_count": 293,
   "id": "350c702a",
   "metadata": {
    "execution": {
     "iopub.execute_input": "2023-05-11T14:24:18.187463Z",
     "iopub.status.busy": "2023-05-11T14:24:18.186342Z",
     "iopub.status.idle": "2023-05-11T14:24:18.200626Z",
     "shell.execute_reply": "2023-05-11T14:24:18.199657Z"
    },
    "papermill": {
     "duration": 0.054873,
     "end_time": "2023-05-11T14:24:18.203414",
     "exception": false,
     "start_time": "2023-05-11T14:24:18.148541",
     "status": "completed"
    },
    "tags": []
   },
   "outputs": [],
   "source": [
    "from sklearn.naive_bayes import GaussianNB\n",
    "\n"
   ]
  },
  {
   "cell_type": "code",
   "execution_count": 294,
   "id": "a105649c",
   "metadata": {
    "execution": {
     "iopub.execute_input": "2023-05-11T14:24:18.279058Z",
     "iopub.status.busy": "2023-05-11T14:24:18.278605Z",
     "iopub.status.idle": "2023-05-11T14:24:18.356657Z",
     "shell.execute_reply": "2023-05-11T14:24:18.355363Z"
    },
    "papermill": {
     "duration": 0.119857,
     "end_time": "2023-05-11T14:24:18.359794",
     "exception": false,
     "start_time": "2023-05-11T14:24:18.239937",
     "status": "completed"
    },
    "tags": []
   },
   "outputs": [],
   "source": [
    "# fit the Naive Bayes model\n",
    "nb = GaussianNB()\n",
    "nb.fit(x_train, y_train)\n",
    "\n",
    "# make predictions on the test set\n",
    "nb_y_pred = nb.predict(x_test)"
   ]
  },
  {
   "cell_type": "code",
   "execution_count": 295,
   "id": "1e3a14a9",
   "metadata": {
    "execution": {
     "iopub.execute_input": "2023-05-11T14:24:18.435071Z",
     "iopub.status.busy": "2023-05-11T14:24:18.434617Z",
     "iopub.status.idle": "2023-05-11T14:24:18.516256Z",
     "shell.execute_reply": "2023-05-11T14:24:18.514673Z"
    },
    "papermill": {
     "duration": 0.123199,
     "end_time": "2023-05-11T14:24:18.518927",
     "exception": false,
     "start_time": "2023-05-11T14:24:18.395728",
     "status": "completed"
    },
    "tags": []
   },
   "outputs": [
    {
     "name": "stdout",
     "output_type": "stream",
     "text": [
      "Accuracy Score: 0.9427487061529615\n",
      "Classification Report:\n",
      "              precision    recall  f1-score   support\n",
      "\n",
      "           0       0.98      0.90      0.94     21813\n",
      "           1       0.91      0.99      0.94     21662\n",
      "\n",
      "    accuracy                           0.94     43475\n",
      "   macro avg       0.95      0.94      0.94     43475\n",
      "weighted avg       0.95      0.94      0.94     43475\n",
      "\n"
     ]
    }
   ],
   "source": [
    "# evaluate the model\n",
    "nb_test_accuracy = accuracy_score(y_test, nb_y_pred)\n",
    "print(f'Accuracy Score: {nb_test_accuracy}')\n",
    "\n",
    "nb_test_report = classification_report(y_test,nb_y_pred)\n",
    "print(f'Classification Report:\\n{nb_test_report}')\n"
   ]
  },
  {
   "cell_type": "code",
   "execution_count": 296,
   "id": "67b06fff",
   "metadata": {
    "execution": {
     "iopub.execute_input": "2023-05-11T14:24:18.593155Z",
     "iopub.status.busy": "2023-05-11T14:24:18.592686Z",
     "iopub.status.idle": "2023-05-11T14:24:18.940046Z",
     "shell.execute_reply": "2023-05-11T14:24:18.939174Z"
    },
    "papermill": {
     "duration": 0.387822,
     "end_time": "2023-05-11T14:24:18.942704",
     "exception": false,
     "start_time": "2023-05-11T14:24:18.554882",
     "status": "completed"
    },
    "tags": []
   },
   "outputs": [
    {
     "name": "stdout",
     "output_type": "stream",
     "text": [
      "Accuracy Score: 0.9416500382405879\n",
      "Classification Report:\n",
      "              precision    recall  f1-score   support\n",
      "\n",
      "           0       0.98      0.90      0.94     86874\n",
      "           1       0.91      0.98      0.94     87025\n",
      "\n",
      "    accuracy                           0.94    173899\n",
      "   macro avg       0.94      0.94      0.94    173899\n",
      "weighted avg       0.94      0.94      0.94    173899\n",
      "\n"
     ]
    }
   ],
   "source": [
    "nb_train_pred = nb.predict(x_train)\n",
    "nb_train_accuracy = accuracy_score(y_train, nb_train_pred)\n",
    "print(f'Accuracy Score: {nb_train_accuracy}')\n",
    "\n",
    "nb_train_report = classification_report(y_train,nb_train_pred)\n",
    "print(f'Classification Report:\\n{nb_train_report}')"
   ]
  },
  {
   "cell_type": "code",
   "execution_count": 297,
   "id": "57964dbd",
   "metadata": {
    "execution": {
     "iopub.execute_input": "2023-05-11T14:24:19.018914Z",
     "iopub.status.busy": "2023-05-11T14:24:19.018496Z",
     "iopub.status.idle": "2023-05-11T14:24:19.025063Z",
     "shell.execute_reply": "2023-05-11T14:24:19.024009Z"
    },
    "papermill": {
     "duration": 0.047372,
     "end_time": "2023-05-11T14:24:19.027589",
     "exception": false,
     "start_time": "2023-05-11T14:24:18.980217",
     "status": "completed"
    },
    "tags": []
   },
   "outputs": [
    {
     "name": "stdout",
     "output_type": "stream",
     "text": [
      "logestics_accuracy 0.617458309373203\n",
      "navie_bayes : 0.9427487061529615  /  train_accuracy : 0.9416500382405879\n",
      "knn: 0.877607820586544 / train_accuracy :  0.9193612384200024\n",
      "randomforst 0.903254744105808  /  train_accuracy :  0.9017935698307639\n",
      "xgboost  0.9596549741230592  /  train_accuracy : 0.9591141984715266\n",
      "GradientBoostingClassifier 0.949419206440483  /  train_accuracy : 0.9489416270363832\n"
     ]
    }
   ],
   "source": [
    "print('logestics_accu*racy',logestics_accuracy)\n",
    "print('navie_bayes :',nb_test_accuracy,' / ',\"train_accuracy :\",nb_train_accuracy)\n",
    "print('knn:',knn_accuracy,'/',\"train_accuracy : \",knn_train_accuracy)\n",
    "print('randomforst',rf_accuracy,' / ',\"train_accuracy : \",rf_train_accuracy)\n",
    "print('xgboost ',xgb_accuracy,' / ',\"train_accuracy :\",xgb_train_accuracy)\n",
    "print('GradientBoostingClassifier',GBC_accuracy,' / ',\"train_accuracy :\",GBC_train_accuracy)\n"
   ]
  }
 ],
 "metadata": {
  "kernelspec": {
   "display_name": "Python 3",
   "language": "python",
   "name": "python3"
  },
  "language_info": {
   "codemirror_mode": {
    "name": "ipython",
    "version": 3
   },
   "file_extension": ".py",
   "mimetype": "text/x-python",
   "name": "python",
   "nbconvert_exporter": "python",
   "pygments_lexer": "ipython3",
   "version": "3.11.1"
  },
  "papermill": {
   "default_parameters": {},
   "duration": 182.915732,
   "end_time": "2023-05-11T14:24:20.290558",
   "environment_variables": {},
   "exception": null,
   "input_path": "__notebook__.ipynb",
   "output_path": "__notebook__.ipynb",
   "parameters": {},
   "start_time": "2023-05-11T14:21:17.374826",
   "version": "2.4.0"
  }
 },
 "nbformat": 4,
 "nbformat_minor": 5
}
